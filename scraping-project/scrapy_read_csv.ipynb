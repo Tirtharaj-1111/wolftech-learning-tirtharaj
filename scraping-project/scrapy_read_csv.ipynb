{
 "cells": [
  {
   "cell_type": "code",
   "execution_count": 10,
   "metadata": {},
   "outputs": [],
   "source": [
    "import pandas as pd"
   ]
  },
  {
   "cell_type": "code",
   "execution_count": 11,
   "metadata": {},
   "outputs": [],
   "source": [
    "dt = pd.read_csv(\"E:\\Wolftech\\wolftech-learning-tirtharaj\\scraping-project\\onescrape\\data.csv\", encoding='latin-1')"
   ]
  },
  {
   "cell_type": "code",
   "execution_count": 19,
   "metadata": {},
   "outputs": [
    {
     "data": {
      "text/html": [
       "<div>\n",
       "<style scoped>\n",
       "    .dataframe tbody tr th:only-of-type {\n",
       "        vertical-align: middle;\n",
       "    }\n",
       "\n",
       "    .dataframe tbody tr th {\n",
       "        vertical-align: top;\n",
       "    }\n",
       "\n",
       "    .dataframe thead th {\n",
       "        text-align: right;\n",
       "    }\n",
       "</style>\n",
       "<table border=\"1\" class=\"dataframe\">\n",
       "  <thead>\n",
       "    <tr style=\"text-align: right;\">\n",
       "      <th></th>\n",
       "      <th>author</th>\n",
       "      <th>quote</th>\n",
       "      <th>tags</th>\n",
       "    </tr>\n",
       "  </thead>\n",
       "  <tbody>\n",
       "    <tr>\n",
       "      <th>0</th>\n",
       "      <td>Albert Einstein</td>\n",
       "      <td>âThe world as we have created it is a proces...</td>\n",
       "      <td>change,deep-thoughts,thinking,world</td>\n",
       "    </tr>\n",
       "    <tr>\n",
       "      <th>1</th>\n",
       "      <td>J.K. Rowling</td>\n",
       "      <td>âIt is our choices, Harry, that show what we...</td>\n",
       "      <td>abilities,choices</td>\n",
       "    </tr>\n",
       "    <tr>\n",
       "      <th>2</th>\n",
       "      <td>Albert Einstein</td>\n",
       "      <td>âThere are only two ways to live your life. ...</td>\n",
       "      <td>inspirational,life,live,miracle,miracles</td>\n",
       "    </tr>\n",
       "    <tr>\n",
       "      <th>3</th>\n",
       "      <td>Jane Austen</td>\n",
       "      <td>âThe person, be it gentleman or lady, who ha...</td>\n",
       "      <td>aliteracy,books,classic,humor</td>\n",
       "    </tr>\n",
       "    <tr>\n",
       "      <th>4</th>\n",
       "      <td>Marilyn Monroe</td>\n",
       "      <td>âImperfection is beauty, madness is genius a...</td>\n",
       "      <td>be-yourself,inspirational</td>\n",
       "    </tr>\n",
       "    <tr>\n",
       "      <th>...</th>\n",
       "      <td>...</td>\n",
       "      <td>...</td>\n",
       "      <td>...</td>\n",
       "    </tr>\n",
       "    <tr>\n",
       "      <th>95</th>\n",
       "      <td>Harper Lee</td>\n",
       "      <td>âYou never really understand a person until ...</td>\n",
       "      <td>better-life-empathy</td>\n",
       "    </tr>\n",
       "    <tr>\n",
       "      <th>96</th>\n",
       "      <td>Madeleine L'Engle</td>\n",
       "      <td>âYou have to write the book that wants to be...</td>\n",
       "      <td>books,children,difficult,grown-ups,write,write...</td>\n",
       "    </tr>\n",
       "    <tr>\n",
       "      <th>97</th>\n",
       "      <td>Mark Twain</td>\n",
       "      <td>âNever tell the truth to people who are not ...</td>\n",
       "      <td>truth</td>\n",
       "    </tr>\n",
       "    <tr>\n",
       "      <th>98</th>\n",
       "      <td>Dr. Seuss</td>\n",
       "      <td>âA person's a person, no matter how small.â</td>\n",
       "      <td>inspirational</td>\n",
       "    </tr>\n",
       "    <tr>\n",
       "      <th>99</th>\n",
       "      <td>George R.R. Martin</td>\n",
       "      <td>â... a mind needs books as a sword needs a w...</td>\n",
       "      <td>books,mind</td>\n",
       "    </tr>\n",
       "  </tbody>\n",
       "</table>\n",
       "<p>100 rows × 3 columns</p>\n",
       "</div>"
      ],
      "text/plain": [
       "                author                                              quote  \\\n",
       "0      Albert Einstein  âThe world as we have created it is a proces...   \n",
       "1         J.K. Rowling  âIt is our choices, Harry, that show what we...   \n",
       "2      Albert Einstein  âThere are only two ways to live your life. ...   \n",
       "3          Jane Austen  âThe person, be it gentleman or lady, who ha...   \n",
       "4       Marilyn Monroe  âImperfection is beauty, madness is genius a...   \n",
       "..                 ...                                                ...   \n",
       "95          Harper Lee  âYou never really understand a person until ...   \n",
       "96   Madeleine L'Engle  âYou have to write the book that wants to be...   \n",
       "97          Mark Twain  âNever tell the truth to people who are not ...   \n",
       "98           Dr. Seuss    âA person's a person, no matter how small.â   \n",
       "99  George R.R. Martin  â... a mind needs books as a sword needs a w...   \n",
       "\n",
       "                                                 tags  \n",
       "0                 change,deep-thoughts,thinking,world  \n",
       "1                                   abilities,choices  \n",
       "2            inspirational,life,live,miracle,miracles  \n",
       "3                       aliteracy,books,classic,humor  \n",
       "4                           be-yourself,inspirational  \n",
       "..                                                ...  \n",
       "95                                better-life-empathy  \n",
       "96  books,children,difficult,grown-ups,write,write...  \n",
       "97                                              truth  \n",
       "98                                      inspirational  \n",
       "99                                         books,mind  \n",
       "\n",
       "[100 rows x 3 columns]"
      ]
     },
     "execution_count": 19,
     "metadata": {},
     "output_type": "execute_result"
    }
   ],
   "source": [
    "dt"
   ]
  },
  {
   "cell_type": "code",
   "execution_count": 18,
   "metadata": {},
   "outputs": [
    {
     "data": {
      "text/plain": [
       "array(['Albert Einstein', 'J.K. Rowling', 'Jane Austen', 'Marilyn Monroe',\n",
       "       'AndrÃ© Gide', 'Thomas A. Edison', 'Eleanor Roosevelt',\n",
       "       'Steve Martin', 'Bob Marley', 'Dr. Seuss', 'Douglas Adams',\n",
       "       'Elie Wiesel', 'Friedrich Nietzsche', 'Mark Twain',\n",
       "       'Allen Saunders', 'Pablo Neruda', 'Ralph Waldo Emerson',\n",
       "       'Mother Teresa', 'Garrison Keillor', 'Jim Henson',\n",
       "       'Charles M. Schulz', 'William Nicholson', 'Jorge Luis Borges',\n",
       "       'George Eliot', 'George R.R. Martin', 'C.S. Lewis',\n",
       "       'Martin Luther King Jr.', 'James Baldwin', 'Haruki Murakami',\n",
       "       'Alexandre Dumas fils', 'Stephenie Meyer', 'Ernest Hemingway',\n",
       "       'Helen Keller', 'George Bernard Shaw', 'Charles Bukowski',\n",
       "       'Suzanne Collins', 'J.R.R. Tolkien', 'Alfred Tennyson',\n",
       "       'Terry Pratchett', 'J.D. Salinger', 'George Carlin', 'John Lennon',\n",
       "       'W.C. Fields', 'Ayn Rand', 'Jimi Hendrix', 'J.M. Barrie',\n",
       "       'E.E. Cummings', 'Khaled Hosseini', 'Harper Lee',\n",
       "       \"Madeleine L'Engle\"], dtype=object)"
      ]
     },
     "execution_count": 18,
     "metadata": {},
     "output_type": "execute_result"
    }
   ],
   "source": [
    "dt['author'].unique()"
   ]
  },
  {
   "cell_type": "code",
   "execution_count": 33,
   "metadata": {},
   "outputs": [
    {
     "data": {
      "text/plain": [
       "author\n",
       "Albert Einstein           10\n",
       "Alexandre Dumas fils       1\n",
       "Alfred Tennyson            1\n",
       "Allen Saunders             1\n",
       "AndrÃ© Gide                1\n",
       "Ayn Rand                   1\n",
       "Bob Marley                 3\n",
       "C.S. Lewis                 5\n",
       "Charles Bukowski           2\n",
       "Charles M. Schulz          1\n",
       "Douglas Adams              1\n",
       "Dr. Seuss                  6\n",
       "E.E. Cummings              1\n",
       "Eleanor Roosevelt          2\n",
       "Elie Wiesel                1\n",
       "Ernest Hemingway           2\n",
       "Friedrich Nietzsche        1\n",
       "Garrison Keillor           1\n",
       "George Bernard Shaw        1\n",
       "George Carlin              1\n",
       "George Eliot               1\n",
       "George R.R. Martin         2\n",
       "Harper Lee                 1\n",
       "Haruki Murakami            1\n",
       "Helen Keller               1\n",
       "J.D. Salinger              1\n",
       "J.K. Rowling               9\n",
       "J.M. Barrie                1\n",
       "J.R.R. Tolkien             1\n",
       "James Baldwin              1\n",
       "Jane Austen                5\n",
       "Jim Henson                 1\n",
       "Jimi Hendrix               1\n",
       "John Lennon                1\n",
       "Jorge Luis Borges          1\n",
       "Khaled Hosseini            1\n",
       "Madeleine L'Engle          1\n",
       "Marilyn Monroe             7\n",
       "Mark Twain                 6\n",
       "Martin Luther King Jr.     1\n",
       "Mother Teresa              2\n",
       "Pablo Neruda               1\n",
       "Ralph Waldo Emerson        2\n",
       "Stephenie Meyer            1\n",
       "Steve Martin               1\n",
       "Suzanne Collins            2\n",
       "Terry Pratchett            1\n",
       "Thomas A. Edison           1\n",
       "W.C. Fields                1\n",
       "William Nicholson          1\n",
       "dtype: int64"
      ]
     },
     "execution_count": 33,
     "metadata": {},
     "output_type": "execute_result"
    }
   ],
   "source": [
    "x=dt.groupby('author').size()\n",
    "x"
   ]
  },
  {
   "cell_type": "code",
   "execution_count": 36,
   "metadata": {},
   "outputs": [
    {
     "data": {
      "text/plain": [
       "<matplotlib.axes._subplots.AxesSubplot at 0x1e2320068e0>"
      ]
     },
     "execution_count": 36,
     "metadata": {},
     "output_type": "execute_result"
    },
    {
     "data": {
      "image/png": "[encoded data removed]",
      "text/plain": [
       "<Figure size 1152x216 with 1 Axes>"
      ]
     },
     "metadata": {
      "needs_background": "light"
     },
     "output_type": "display_data"
    }
   ],
   "source": [
    "x.plot(kind='bar', figsize=(16,3))"
   ]
  }
 ],
 "metadata": {
  "kernelspec": {
   "display_name": "Python 3",
   "language": "python",
   "name": "python3"
  },
  "language_info": {
   "codemirror_mode": {
    "name": "ipython",
    "version": 3
   },
   "file_extension": ".py",
   "mimetype": "text/x-python",
   "name": "python",
   "nbconvert_exporter": "python",
   "pygments_lexer": "ipython3",
   "version": "3.8.3"
  }
 },
 "nbformat": 4,
 "nbformat_minor": 4
}
