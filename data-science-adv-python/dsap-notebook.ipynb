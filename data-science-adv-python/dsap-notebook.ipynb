{
 "cells": [
  {
   "cell_type": "markdown",
   "metadata": {},
   "source": [
    "## Installing and importing pandas library"
   ]
  },
  {
   "cell_type": "code",
   "execution_count": 10,
   "metadata": {},
   "outputs": [
    {
     "name": "stdout",
     "output_type": "stream",
     "text": [
      "Requirement already satisfied: pandas in c:\\users\\test\\anaconda3\\lib\\site-packages (1.0.5)\n",
      "Requirement already satisfied: numpy>=1.13.3 in c:\\users\\test\\anaconda3\\lib\\site-packages (from pandas) (1.19.5)\n",
      "Requirement already satisfied: pytz>=2017.2 in c:\\users\\test\\anaconda3\\lib\\site-packages (from pandas) (2020.1)\n",
      "Requirement already satisfied: python-dateutil>=2.6.1 in c:\\users\\test\\anaconda3\\lib\\site-packages (from pandas) (2.8.1)\n",
      "Requirement already satisfied: six>=1.5 in c:\\users\\test\\anaconda3\\lib\\site-packages (from python-dateutil>=2.6.1->pandas) (1.15.0)\n",
      "Note: you may need to restart the kernel to use updated packages.\n"
     ]
    }
   ],
   "source": [
    "pip install pandas"
   ]
  },
  {
   "cell_type": "code",
   "execution_count": 1,
   "metadata": {},
   "outputs": [],
   "source": [
    "import pandas as pd"
   ]
  },
  {
   "cell_type": "markdown",
   "metadata": {},
   "source": [
    "## Reading raw data from a csv file into a dataframe"
   ]
  },
  {
   "cell_type": "code",
   "execution_count": 84,
   "metadata": {},
   "outputs": [],
   "source": [
    "data_df = pd.read_csv(\"E:\\Wolftech\\wolftech-learning-tirtharaj\\data-science-adv-python\\CarPricesData.csv\",encoding=\"latin-1\")"
   ]
  },
  {
   "cell_type": "code",
   "execution_count": 121,
   "metadata": {
    "scrolled": true
   },
   "outputs": [],
   "source": [
    "# print(data_df)"
   ]
  },
  {
   "cell_type": "code",
   "execution_count": 86,
   "metadata": {},
   "outputs": [
    {
     "name": "stdout",
     "output_type": "stream",
     "text": [
      "   Price   Age     KM FuelType  HP  MetColor  Automatic      CC  Doors  Weight\n",
      "0  13500  23.0  46986   Diesel  90         1          0  2000.0      3  1165.0\n",
      "1  13750  23.0  72937   Diesel  90         1          0  2000.0      3  1165.0\n",
      "2  13950  24.0  41711   Diesel  90         1          0  2000.0      3  1165.0\n",
      "3  14950  26.0  48000   Diesel  90         0          0  2000.0      3  1165.0\n",
      "4  13750  30.0  38500   Diesel  90         0          0  2000.0      3  1170.0\n"
     ]
    }
   ],
   "source": [
    "print(data_df.head(n=5))"
   ]
  },
  {
   "cell_type": "code",
   "execution_count": 87,
   "metadata": {
    "scrolled": true
   },
   "outputs": [
    {
     "name": "stdout",
     "output_type": "stream",
     "text": [
      "(1436, 10)\n"
     ]
    }
   ],
   "source": [
    "print(data_df.shape)\n",
    "x = data_df.shape"
   ]
  },
  {
   "cell_type": "markdown",
   "metadata": {},
   "source": [
    "## View the no. of rows and columns in the dataframe"
   ]
  },
  {
   "cell_type": "code",
   "execution_count": 88,
   "metadata": {},
   "outputs": [
    {
     "name": "stdout",
     "output_type": "stream",
     "text": [
      "The number of rows is: 1436\n",
      "The number of columns is: 10\n"
     ]
    }
   ],
   "source": [
    "print('The number of rows is:', x[0])\n",
    "print('The number of columns is:', x[1])"
   ]
  },
  {
   "cell_type": "code",
   "execution_count": 89,
   "metadata": {},
   "outputs": [],
   "source": [
    "data_df = data_df.drop_duplicates()"
   ]
  },
  {
   "cell_type": "code",
   "execution_count": 90,
   "metadata": {},
   "outputs": [
    {
     "name": "stdout",
     "output_type": "stream",
     "text": [
      "(1435, 10)\n"
     ]
    }
   ],
   "source": [
    "y = data_df.shape\n",
    "print(y)"
   ]
  },
  {
   "cell_type": "code",
   "execution_count": 91,
   "metadata": {},
   "outputs": [
    {
     "name": "stdout",
     "output_type": "stream",
     "text": [
      "No of duplicate rows deleted: 1\n"
     ]
    }
   ],
   "source": [
    "print('No of duplicate rows deleted:', x[0]-y[0])"
   ]
  },
  {
   "cell_type": "markdown",
   "metadata": {},
   "source": [
    "## Viewing data summary using info(), describe() and nunique()"
   ]
  },
  {
   "cell_type": "code",
   "execution_count": 122,
   "metadata": {},
   "outputs": [
    {
     "name": "stdout",
     "output_type": "stream",
     "text": [
      "<class 'pandas.core.frame.DataFrame'>\n",
      "Int64Index: 1436 entries, 0 to 1435\n",
      "Data columns (total 12 columns):\n",
      " #   Column     Non-Null Count  Dtype  \n",
      "---  ------     --------------  -----  \n",
      " 0   Price      1436 non-null   int64  \n",
      " 1   Age        1434 non-null   float64\n",
      " 2   KM         1436 non-null   int64  \n",
      " 3   FuelType   1432 non-null   object \n",
      " 4   HP         1436 non-null   int64  \n",
      " 5   MetColor   1436 non-null   int64  \n",
      " 6   Automatic  1436 non-null   int64  \n",
      " 7   CC         1434 non-null   float64\n",
      " 8   Doors      1436 non-null   int64  \n",
      " 9   Weight     1434 non-null   float64\n",
      " 10  Cylinders  1436 non-null   int64  \n",
      " 11  Make       1436 non-null   object \n",
      "dtypes: float64(3), int64(7), object(2)\n",
      "memory usage: 145.8+ KB\n"
     ]
    }
   ],
   "source": [
    "data_df.info()"
   ]
  },
  {
   "cell_type": "code",
   "execution_count": 123,
   "metadata": {},
   "outputs": [
    {
     "data": {
      "text/html": [
       "<div>\n",
       "<style scoped>\n",
       "    .dataframe tbody tr th:only-of-type {\n",
       "        vertical-align: middle;\n",
       "    }\n",
       "\n",
       "    .dataframe tbody tr th {\n",
       "        vertical-align: top;\n",
       "    }\n",
       "\n",
       "    .dataframe thead th {\n",
       "        text-align: right;\n",
       "    }\n",
       "</style>\n",
       "<table border=\"1\" class=\"dataframe\">\n",
       "  <thead>\n",
       "    <tr style=\"text-align: right;\">\n",
       "      <th></th>\n",
       "      <th>Price</th>\n",
       "      <th>Age</th>\n",
       "      <th>KM</th>\n",
       "      <th>FuelType</th>\n",
       "      <th>HP</th>\n",
       "      <th>MetColor</th>\n",
       "      <th>Automatic</th>\n",
       "      <th>CC</th>\n",
       "      <th>Doors</th>\n",
       "      <th>Weight</th>\n",
       "      <th>Cylinders</th>\n",
       "      <th>Make</th>\n",
       "    </tr>\n",
       "  </thead>\n",
       "  <tbody>\n",
       "    <tr>\n",
       "      <th>count</th>\n",
       "      <td>1436.000000</td>\n",
       "      <td>1434.000000</td>\n",
       "      <td>1436.000000</td>\n",
       "      <td>1432</td>\n",
       "      <td>1436.000000</td>\n",
       "      <td>1436.000000</td>\n",
       "      <td>1436.000000</td>\n",
       "      <td>1434.000000</td>\n",
       "      <td>1436.000000</td>\n",
       "      <td>1434.000000</td>\n",
       "      <td>1436.000000</td>\n",
       "      <td>1436</td>\n",
       "    </tr>\n",
       "    <tr>\n",
       "      <th>unique</th>\n",
       "      <td>NaN</td>\n",
       "      <td>NaN</td>\n",
       "      <td>NaN</td>\n",
       "      <td>3</td>\n",
       "      <td>NaN</td>\n",
       "      <td>NaN</td>\n",
       "      <td>NaN</td>\n",
       "      <td>NaN</td>\n",
       "      <td>NaN</td>\n",
       "      <td>NaN</td>\n",
       "      <td>NaN</td>\n",
       "      <td>11</td>\n",
       "    </tr>\n",
       "    <tr>\n",
       "      <th>top</th>\n",
       "      <td>NaN</td>\n",
       "      <td>NaN</td>\n",
       "      <td>NaN</td>\n",
       "      <td>Petrol</td>\n",
       "      <td>NaN</td>\n",
       "      <td>NaN</td>\n",
       "      <td>NaN</td>\n",
       "      <td>NaN</td>\n",
       "      <td>NaN</td>\n",
       "      <td>NaN</td>\n",
       "      <td>NaN</td>\n",
       "      <td>Bugatti</td>\n",
       "    </tr>\n",
       "    <tr>\n",
       "      <th>freq</th>\n",
       "      <td>NaN</td>\n",
       "      <td>NaN</td>\n",
       "      <td>NaN</td>\n",
       "      <td>1261</td>\n",
       "      <td>NaN</td>\n",
       "      <td>NaN</td>\n",
       "      <td>NaN</td>\n",
       "      <td>NaN</td>\n",
       "      <td>NaN</td>\n",
       "      <td>NaN</td>\n",
       "      <td>NaN</td>\n",
       "      <td>144</td>\n",
       "    </tr>\n",
       "    <tr>\n",
       "      <th>mean</th>\n",
       "      <td>10726.506964</td>\n",
       "      <td>56.002092</td>\n",
       "      <td>68529.949861</td>\n",
       "      <td>NaN</td>\n",
       "      <td>101.463092</td>\n",
       "      <td>0.674791</td>\n",
       "      <td>0.056407</td>\n",
       "      <td>1567.688285</td>\n",
       "      <td>4.031337</td>\n",
       "      <td>1072.940725</td>\n",
       "      <td>7.260446</td>\n",
       "      <td>NaN</td>\n",
       "    </tr>\n",
       "    <tr>\n",
       "      <th>std</th>\n",
       "      <td>3613.692208</td>\n",
       "      <td>18.551206</td>\n",
       "      <td>37511.540050</td>\n",
       "      <td>NaN</td>\n",
       "      <td>15.016160</td>\n",
       "      <td>0.468616</td>\n",
       "      <td>0.230786</td>\n",
       "      <td>190.623650</td>\n",
       "      <td>0.953844</td>\n",
       "      <td>57.389549</td>\n",
       "      <td>3.282579</td>\n",
       "      <td>NaN</td>\n",
       "    </tr>\n",
       "    <tr>\n",
       "      <th>min</th>\n",
       "      <td>4350.000000</td>\n",
       "      <td>1.000000</td>\n",
       "      <td>1.000000</td>\n",
       "      <td>NaN</td>\n",
       "      <td>60.000000</td>\n",
       "      <td>0.000000</td>\n",
       "      <td>0.000000</td>\n",
       "      <td>1300.000000</td>\n",
       "      <td>2.000000</td>\n",
       "      <td>1000.000000</td>\n",
       "      <td>3.000000</td>\n",
       "      <td>NaN</td>\n",
       "    </tr>\n",
       "    <tr>\n",
       "      <th>25%</th>\n",
       "      <td>8450.000000</td>\n",
       "      <td>44.000000</td>\n",
       "      <td>43000.000000</td>\n",
       "      <td>NaN</td>\n",
       "      <td>89.000000</td>\n",
       "      <td>0.000000</td>\n",
       "      <td>0.000000</td>\n",
       "      <td>1400.000000</td>\n",
       "      <td>3.000000</td>\n",
       "      <td>1040.000000</td>\n",
       "      <td>3.000000</td>\n",
       "      <td>NaN</td>\n",
       "    </tr>\n",
       "    <tr>\n",
       "      <th>50%</th>\n",
       "      <td>9900.000000</td>\n",
       "      <td>61.000000</td>\n",
       "      <td>63389.500000</td>\n",
       "      <td>NaN</td>\n",
       "      <td>110.000000</td>\n",
       "      <td>1.000000</td>\n",
       "      <td>0.000000</td>\n",
       "      <td>1600.000000</td>\n",
       "      <td>4.000000</td>\n",
       "      <td>1070.000000</td>\n",
       "      <td>8.000000</td>\n",
       "      <td>NaN</td>\n",
       "    </tr>\n",
       "    <tr>\n",
       "      <th>75%</th>\n",
       "      <td>11950.000000</td>\n",
       "      <td>70.000000</td>\n",
       "      <td>87020.750000</td>\n",
       "      <td>NaN</td>\n",
       "      <td>110.000000</td>\n",
       "      <td>1.000000</td>\n",
       "      <td>0.000000</td>\n",
       "      <td>1600.000000</td>\n",
       "      <td>5.000000</td>\n",
       "      <td>1085.000000</td>\n",
       "      <td>12.000000</td>\n",
       "      <td>NaN</td>\n",
       "    </tr>\n",
       "    <tr>\n",
       "      <th>max</th>\n",
       "      <td>32500.000000</td>\n",
       "      <td>80.000000</td>\n",
       "      <td>243000.000000</td>\n",
       "      <td>NaN</td>\n",
       "      <td>192.000000</td>\n",
       "      <td>1.000000</td>\n",
       "      <td>1.000000</td>\n",
       "      <td>3000.000000</td>\n",
       "      <td>5.000000</td>\n",
       "      <td>1970.000000</td>\n",
       "      <td>12.000000</td>\n",
       "      <td>NaN</td>\n",
       "    </tr>\n",
       "  </tbody>\n",
       "</table>\n",
       "</div>"
      ],
      "text/plain": [
       "               Price          Age             KM FuelType           HP  \\\n",
       "count    1436.000000  1434.000000    1436.000000     1432  1436.000000   \n",
       "unique           NaN          NaN            NaN        3          NaN   \n",
       "top              NaN          NaN            NaN   Petrol          NaN   \n",
       "freq             NaN          NaN            NaN     1261          NaN   \n",
       "mean    10726.506964    56.002092   68529.949861      NaN   101.463092   \n",
       "std      3613.692208    18.551206   37511.540050      NaN    15.016160   \n",
       "min      4350.000000     1.000000       1.000000      NaN    60.000000   \n",
       "25%      8450.000000    44.000000   43000.000000      NaN    89.000000   \n",
       "50%      9900.000000    61.000000   63389.500000      NaN   110.000000   \n",
       "75%     11950.000000    70.000000   87020.750000      NaN   110.000000   \n",
       "max     32500.000000    80.000000  243000.000000      NaN   192.000000   \n",
       "\n",
       "           MetColor    Automatic           CC        Doors       Weight  \\\n",
       "count   1436.000000  1436.000000  1434.000000  1436.000000  1434.000000   \n",
       "unique          NaN          NaN          NaN          NaN          NaN   \n",
       "top             NaN          NaN          NaN          NaN          NaN   \n",
       "freq            NaN          NaN          NaN          NaN          NaN   \n",
       "mean       0.674791     0.056407  1567.688285     4.031337  1072.940725   \n",
       "std        0.468616     0.230786   190.623650     0.953844    57.389549   \n",
       "min        0.000000     0.000000  1300.000000     2.000000  1000.000000   \n",
       "25%        0.000000     0.000000  1400.000000     3.000000  1040.000000   \n",
       "50%        1.000000     0.000000  1600.000000     4.000000  1070.000000   \n",
       "75%        1.000000     0.000000  1600.000000     5.000000  1085.000000   \n",
       "max        1.000000     1.000000  3000.000000     5.000000  1970.000000   \n",
       "\n",
       "          Cylinders     Make  \n",
       "count   1436.000000     1436  \n",
       "unique          NaN       11  \n",
       "top             NaN  Bugatti  \n",
       "freq            NaN      144  \n",
       "mean       7.260446      NaN  \n",
       "std        3.282579      NaN  \n",
       "min        3.000000      NaN  \n",
       "25%        3.000000      NaN  \n",
       "50%        8.000000      NaN  \n",
       "75%       12.000000      NaN  \n",
       "max       12.000000      NaN  "
      ]
     },
     "execution_count": 123,
     "metadata": {},
     "output_type": "execute_result"
    }
   ],
   "source": [
    "data_df.describe(include='all')"
   ]
  },
  {
   "cell_type": "code",
   "execution_count": 124,
   "metadata": {},
   "outputs": [
    {
     "data": {
      "text/plain": [
       "Price         236\n",
       "Age            77\n",
       "KM           1264\n",
       "FuelType        3\n",
       "HP             13\n",
       "MetColor        2\n",
       "Automatic       2\n",
       "CC             13\n",
       "Doors           4\n",
       "Weight         60\n",
       "Cylinders       4\n",
       "Make           11\n",
       "dtype: int64"
      ]
     },
     "execution_count": 124,
     "metadata": {},
     "output_type": "execute_result"
    }
   ],
   "source": [
    "data_df.nunique()"
   ]
  },
  {
   "cell_type": "markdown",
   "metadata": {},
   "source": [
    "## Classifying numerical and categorical columns"
   ]
  },
  {
   "cell_type": "code",
   "execution_count": 125,
   "metadata": {},
   "outputs": [],
   "source": [
    "num_cols = ['Price', 'Age', 'KM', 'HP', 'Weight', 'CC']\n",
    "cat_cols = ['Doors', 'MetColor', 'Automatic', 'Cylinders','Make', 'FuelType']"
   ]
  },
  {
   "cell_type": "markdown",
   "metadata": {},
   "source": [
    "## Controlling view options"
   ]
  },
  {
   "cell_type": "code",
   "execution_count": 80,
   "metadata": {},
   "outputs": [],
   "source": [
    "# pd.options.display.max_columns=10\n",
    "# pd.set_option('max_rows',15)"
   ]
  },
  {
   "cell_type": "code",
   "execution_count": 120,
   "metadata": {
    "scrolled": true
   },
   "outputs": [],
   "source": [
    "# data_df"
   ]
  },
  {
   "cell_type": "markdown",
   "metadata": {},
   "source": [
    "## Adding a row - using append()"
   ]
  },
  {
   "cell_type": "code",
   "execution_count": 99,
   "metadata": {},
   "outputs": [],
   "source": [
    "df_cols = ['Price','Age','KM','FuelType','HP','MetColor','Automatic','CC','Doors','Weight']\n",
    "# new_row = pd.DataFrame(data=[[13750, 30.0,38500,'Diesel',90,0,0,2000.0,3,1170.0]], columns=df_cols)\n",
    "data_df = data_df.append(new_row, ignore_index=False)"
   ]
  },
  {
   "cell_type": "code",
   "execution_count": 102,
   "metadata": {},
   "outputs": [],
   "source": [
    "another_row = pd.DataFrame(data=[[13600, 28.0,32500,'Petrol',60,1,0,2500.0,5,1070.0]], columns=df_cols)"
   ]
  },
  {
   "cell_type": "code",
   "execution_count": 105,
   "metadata": {},
   "outputs": [],
   "source": [
    "data_df = data_df.append(another_row, ignore_index=True)"
   ]
  },
  {
   "cell_type": "code",
   "execution_count": 106,
   "metadata": {
    "scrolled": true
   },
   "outputs": [
    {
     "name": "stdout",
     "output_type": "stream",
     "text": [
      "      Price   Age     KM FuelType   HP  MetColor  Automatic      CC  Doors  \\\n",
      "1434   6950  76.0      1   Petrol  110         0          0  1600.0      5   \n",
      "1435  13750  30.0  38500   Diesel   90         0          0  2000.0      3   \n",
      "1436  13750  30.0  38500   Diesel   90         0          0  2000.0      3   \n",
      "1437  13600  28.0  32500   Petrol   60         1          0  2500.0      5   \n",
      "1438  13600  28.0  32500   Petrol   60         1          0  2500.0      5   \n",
      "\n",
      "      Weight  \n",
      "1434  1114.0  \n",
      "1435  1170.0  \n",
      "1436  1170.0  \n",
      "1437  1070.0  \n",
      "1438  1070.0  \n"
     ]
    }
   ],
   "source": [
    "print(data_df.tail(n=5))"
   ]
  },
  {
   "cell_type": "markdown",
   "metadata": {},
   "source": [
    "## Adding a row - using concat()"
   ]
  },
  {
   "cell_type": "code",
   "execution_count": 3,
   "metadata": {},
   "outputs": [],
   "source": [
    "data_df = pd.read_csv(\"E:\\Wolftech\\wolftech-learning-tirtharaj\\data-science-adv-python\\CarPricesData.csv\",encoding=\"latin-1\")\n",
    "data_df = data_df.drop_duplicates()"
   ]
  },
  {
   "cell_type": "code",
   "execution_count": 8,
   "metadata": {},
   "outputs": [],
   "source": [
    "df_cols = ['Price','Age','KM','FuelType','HP','MetColor','Automatic','CC','Doors','Weight']\n",
    "plus_row = pd.DataFrame(data=[[18750, 30.0,8500,'Petrol',60,1,1,3000.0,2,1970.0]], columns=df_cols)"
   ]
  },
  {
   "cell_type": "code",
   "execution_count": 9,
   "metadata": {},
   "outputs": [],
   "source": [
    "data_df = pd.concat([data_df,plus_row], ignore_index=True) "
   ]
  },
  {
   "cell_type": "code",
   "execution_count": 10,
   "metadata": {},
   "outputs": [
    {
     "name": "stdout",
     "output_type": "stream",
     "text": [
      "      Price   Age     KM FuelType   HP  MetColor  Automatic      CC  Doors  \\\n",
      "1430   7500  69.0  20544   Petrol   86         1          0  1300.0      3   \n",
      "1431  10845  72.0  19000   Petrol   86         0          0  1300.0      3   \n",
      "1432   8500  71.0  17016   Petrol   86         0          0  1300.0      3   \n",
      "1433   7250  70.0  16916   Petrol   86         1          0  1300.0      3   \n",
      "1434   6950  76.0      1   Petrol  110         0          0  1600.0      5   \n",
      "1435  18750  30.0   8500   Petrol   60         1          1  3000.0      2   \n",
      "\n",
      "      Weight  Cylinders  \n",
      "1430  1025.0        8.0  \n",
      "1431  1015.0        8.0  \n",
      "1432  1015.0       12.0  \n",
      "1433  1015.0       12.0  \n",
      "1434  1114.0       12.0  \n",
      "1435  1970.0        NaN  \n"
     ]
    }
   ],
   "source": [
    "data_df = data_df.drop_duplicates()\n",
    "print(data_df.tail(n=6))"
   ]
  },
  {
   "cell_type": "markdown",
   "metadata": {},
   "source": [
    "## Adding a numerical column"
   ]
  },
  {
   "cell_type": "code",
   "execution_count": 12,
   "metadata": {},
   "outputs": [],
   "source": [
    "import random"
   ]
  },
  {
   "cell_type": "code",
   "execution_count": 13,
   "metadata": {},
   "outputs": [],
   "source": [
    "Cylinders = []\n",
    "cyl_count = [3,6,8,12]\n",
    "for i in range(len(data_df)):\n",
    "    Cylinders.append(random.choice(cyl_count))"
   ]
  },
  {
   "cell_type": "code",
   "execution_count": 142,
   "metadata": {},
   "outputs": [],
   "source": [
    "# Cylinders"
   ]
  },
  {
   "cell_type": "code",
   "execution_count": 14,
   "metadata": {},
   "outputs": [],
   "source": [
    "data_df['Cylinders']=Cylinders"
   ]
  },
  {
   "cell_type": "code",
   "execution_count": 18,
   "metadata": {},
   "outputs": [
    {
     "data": {
      "text/html": [
       "<div>\n",
       "<style scoped>\n",
       "    .dataframe tbody tr th:only-of-type {\n",
       "        vertical-align: middle;\n",
       "    }\n",
       "\n",
       "    .dataframe tbody tr th {\n",
       "        vertical-align: top;\n",
       "    }\n",
       "\n",
       "    .dataframe thead th {\n",
       "        text-align: right;\n",
       "    }\n",
       "</style>\n",
       "<table border=\"1\" class=\"dataframe\">\n",
       "  <thead>\n",
       "    <tr style=\"text-align: right;\">\n",
       "      <th></th>\n",
       "      <th>Price</th>\n",
       "      <th>Age</th>\n",
       "      <th>KM</th>\n",
       "      <th>FuelType</th>\n",
       "      <th>HP</th>\n",
       "      <th>MetColor</th>\n",
       "      <th>Automatic</th>\n",
       "      <th>CC</th>\n",
       "      <th>Doors</th>\n",
       "      <th>Weight</th>\n",
       "      <th>Cylinders</th>\n",
       "    </tr>\n",
       "  </thead>\n",
       "  <tbody>\n",
       "    <tr>\n",
       "      <th>0</th>\n",
       "      <td>13500</td>\n",
       "      <td>23.0</td>\n",
       "      <td>46986</td>\n",
       "      <td>Diesel</td>\n",
       "      <td>90</td>\n",
       "      <td>1</td>\n",
       "      <td>0</td>\n",
       "      <td>2000.0</td>\n",
       "      <td>3</td>\n",
       "      <td>1165.0</td>\n",
       "      <td>6</td>\n",
       "    </tr>\n",
       "    <tr>\n",
       "      <th>1</th>\n",
       "      <td>13750</td>\n",
       "      <td>23.0</td>\n",
       "      <td>72937</td>\n",
       "      <td>Diesel</td>\n",
       "      <td>90</td>\n",
       "      <td>1</td>\n",
       "      <td>0</td>\n",
       "      <td>2000.0</td>\n",
       "      <td>3</td>\n",
       "      <td>1165.0</td>\n",
       "      <td>3</td>\n",
       "    </tr>\n",
       "    <tr>\n",
       "      <th>2</th>\n",
       "      <td>13950</td>\n",
       "      <td>24.0</td>\n",
       "      <td>41711</td>\n",
       "      <td>Diesel</td>\n",
       "      <td>90</td>\n",
       "      <td>1</td>\n",
       "      <td>0</td>\n",
       "      <td>2000.0</td>\n",
       "      <td>3</td>\n",
       "      <td>1165.0</td>\n",
       "      <td>12</td>\n",
       "    </tr>\n",
       "    <tr>\n",
       "      <th>3</th>\n",
       "      <td>14950</td>\n",
       "      <td>26.0</td>\n",
       "      <td>48000</td>\n",
       "      <td>Diesel</td>\n",
       "      <td>90</td>\n",
       "      <td>0</td>\n",
       "      <td>0</td>\n",
       "      <td>2000.0</td>\n",
       "      <td>3</td>\n",
       "      <td>1165.0</td>\n",
       "      <td>12</td>\n",
       "    </tr>\n",
       "    <tr>\n",
       "      <th>4</th>\n",
       "      <td>13750</td>\n",
       "      <td>30.0</td>\n",
       "      <td>38500</td>\n",
       "      <td>Diesel</td>\n",
       "      <td>90</td>\n",
       "      <td>0</td>\n",
       "      <td>0</td>\n",
       "      <td>2000.0</td>\n",
       "      <td>3</td>\n",
       "      <td>1170.0</td>\n",
       "      <td>12</td>\n",
       "    </tr>\n",
       "    <tr>\n",
       "      <th>...</th>\n",
       "      <td>...</td>\n",
       "      <td>...</td>\n",
       "      <td>...</td>\n",
       "      <td>...</td>\n",
       "      <td>...</td>\n",
       "      <td>...</td>\n",
       "      <td>...</td>\n",
       "      <td>...</td>\n",
       "      <td>...</td>\n",
       "      <td>...</td>\n",
       "      <td>...</td>\n",
       "    </tr>\n",
       "    <tr>\n",
       "      <th>1431</th>\n",
       "      <td>10845</td>\n",
       "      <td>72.0</td>\n",
       "      <td>19000</td>\n",
       "      <td>Petrol</td>\n",
       "      <td>86</td>\n",
       "      <td>0</td>\n",
       "      <td>0</td>\n",
       "      <td>1300.0</td>\n",
       "      <td>3</td>\n",
       "      <td>1015.0</td>\n",
       "      <td>12</td>\n",
       "    </tr>\n",
       "    <tr>\n",
       "      <th>1432</th>\n",
       "      <td>8500</td>\n",
       "      <td>71.0</td>\n",
       "      <td>17016</td>\n",
       "      <td>Petrol</td>\n",
       "      <td>86</td>\n",
       "      <td>0</td>\n",
       "      <td>0</td>\n",
       "      <td>1300.0</td>\n",
       "      <td>3</td>\n",
       "      <td>1015.0</td>\n",
       "      <td>12</td>\n",
       "    </tr>\n",
       "    <tr>\n",
       "      <th>1433</th>\n",
       "      <td>7250</td>\n",
       "      <td>70.0</td>\n",
       "      <td>16916</td>\n",
       "      <td>Petrol</td>\n",
       "      <td>86</td>\n",
       "      <td>1</td>\n",
       "      <td>0</td>\n",
       "      <td>1300.0</td>\n",
       "      <td>3</td>\n",
       "      <td>1015.0</td>\n",
       "      <td>6</td>\n",
       "    </tr>\n",
       "    <tr>\n",
       "      <th>1434</th>\n",
       "      <td>6950</td>\n",
       "      <td>76.0</td>\n",
       "      <td>1</td>\n",
       "      <td>Petrol</td>\n",
       "      <td>110</td>\n",
       "      <td>0</td>\n",
       "      <td>0</td>\n",
       "      <td>1600.0</td>\n",
       "      <td>5</td>\n",
       "      <td>1114.0</td>\n",
       "      <td>12</td>\n",
       "    </tr>\n",
       "    <tr>\n",
       "      <th>1435</th>\n",
       "      <td>18750</td>\n",
       "      <td>30.0</td>\n",
       "      <td>8500</td>\n",
       "      <td>Petrol</td>\n",
       "      <td>60</td>\n",
       "      <td>1</td>\n",
       "      <td>1</td>\n",
       "      <td>3000.0</td>\n",
       "      <td>2</td>\n",
       "      <td>1970.0</td>\n",
       "      <td>8</td>\n",
       "    </tr>\n",
       "  </tbody>\n",
       "</table>\n",
       "<p>1436 rows × 11 columns</p>\n",
       "</div>"
      ],
      "text/plain": [
       "      Price   Age     KM FuelType   HP  MetColor  Automatic      CC  Doors  \\\n",
       "0     13500  23.0  46986   Diesel   90         1          0  2000.0      3   \n",
       "1     13750  23.0  72937   Diesel   90         1          0  2000.0      3   \n",
       "2     13950  24.0  41711   Diesel   90         1          0  2000.0      3   \n",
       "3     14950  26.0  48000   Diesel   90         0          0  2000.0      3   \n",
       "4     13750  30.0  38500   Diesel   90         0          0  2000.0      3   \n",
       "...     ...   ...    ...      ...  ...       ...        ...     ...    ...   \n",
       "1431  10845  72.0  19000   Petrol   86         0          0  1300.0      3   \n",
       "1432   8500  71.0  17016   Petrol   86         0          0  1300.0      3   \n",
       "1433   7250  70.0  16916   Petrol   86         1          0  1300.0      3   \n",
       "1434   6950  76.0      1   Petrol  110         0          0  1600.0      5   \n",
       "1435  18750  30.0   8500   Petrol   60         1          1  3000.0      2   \n",
       "\n",
       "      Weight  Cylinders  \n",
       "0     1165.0          6  \n",
       "1     1165.0          3  \n",
       "2     1165.0         12  \n",
       "3     1165.0         12  \n",
       "4     1170.0         12  \n",
       "...      ...        ...  \n",
       "1431  1015.0         12  \n",
       "1432  1015.0         12  \n",
       "1433  1015.0          6  \n",
       "1434  1114.0         12  \n",
       "1435  1970.0          8  \n",
       "\n",
       "[1436 rows x 11 columns]"
      ]
     },
     "execution_count": 18,
     "metadata": {},
     "output_type": "execute_result"
    }
   ],
   "source": [
    "data_df"
   ]
  },
  {
   "cell_type": "code",
   "execution_count": 23,
   "metadata": {},
   "outputs": [],
   "source": [
    "df_cols = ['Price','Age','KM','FuelType','HP','MetColor','Automatic','CC','Doors','Weight'] + ['Cylinders']"
   ]
  },
  {
   "cell_type": "code",
   "execution_count": 24,
   "metadata": {},
   "outputs": [
    {
     "data": {
      "text/plain": [
       "['Price',\n",
       " 'Age',\n",
       " 'KM',\n",
       " 'FuelType',\n",
       " 'HP',\n",
       " 'MetColor',\n",
       " 'Automatic',\n",
       " 'CC',\n",
       " 'Doors',\n",
       " 'Weight',\n",
       " 'Cylinders']"
      ]
     },
     "execution_count": 24,
     "metadata": {},
     "output_type": "execute_result"
    }
   ],
   "source": [
    "df_cols"
   ]
  },
  {
   "cell_type": "code",
   "execution_count": 42,
   "metadata": {
    "scrolled": true
   },
   "outputs": [
    {
     "name": "stdout",
     "output_type": "stream",
     "text": [
      "      Price   Age     KM FuelType   HP  MetColor  Automatic      CC  Doors  \\\n",
      "0     13500  23.0  46986   Diesel   90         1          0  2000.0      3   \n",
      "1     13750  23.0  72937   Diesel   90         1          0  2000.0      3   \n",
      "2     13950  24.0  41711   Diesel   90         1          0  2000.0      3   \n",
      "3     14950  26.0  48000   Diesel   90         0          0  2000.0      3   \n",
      "4     13750  30.0  38500   Diesel   90         0          0  2000.0      3   \n",
      "...     ...   ...    ...      ...  ...       ...        ...     ...    ...   \n",
      "1431  10845  72.0  19000   Petrol   86         0          0  1300.0      3   \n",
      "1432   8500  71.0  17016   Petrol   86         0          0  1300.0      3   \n",
      "1433   7250  70.0  16916   Petrol   86         1          0  1300.0      3   \n",
      "1434   6950  76.0      1   Petrol  110         0          0  1600.0      5   \n",
      "1435  18750  30.0   8500   Petrol   60         1          1  3000.0      2   \n",
      "\n",
      "      Weight  Cylinders  \n",
      "0     1165.0          6  \n",
      "1     1165.0          3  \n",
      "2     1165.0         12  \n",
      "3     1165.0         12  \n",
      "4     1170.0         12  \n",
      "...      ...        ...  \n",
      "1431  1015.0         12  \n",
      "1432  1015.0         12  \n",
      "1433  1015.0          6  \n",
      "1434  1114.0         12  \n",
      "1435  1970.0          8  \n",
      "\n",
      "[1436 rows x 11 columns]\n"
     ]
    }
   ],
   "source": [
    "# print(data_df[df_cols].iloc[0:,0:11])"
   ]
  },
  {
   "cell_type": "markdown",
   "metadata": {},
   "source": [
    "## Adding a categorical column"
   ]
  },
  {
   "cell_type": "code",
   "execution_count": 114,
   "metadata": {},
   "outputs": [],
   "source": [
    "Make = []\n",
    "Make_catalogue = ['Alfa Romeo','Bugatti','Chevrolet','Dodge','Eicher Motors','Ford','GM','Hyundai', 'Isuzu', 'Jaguar', 'Kia']\n",
    "for i in range(len(data_df)):\n",
    "    Make.append(random.choice(Make_catalogue))"
   ]
  },
  {
   "cell_type": "code",
   "execution_count": 117,
   "metadata": {},
   "outputs": [],
   "source": [
    "# Make"
   ]
  },
  {
   "cell_type": "code",
   "execution_count": 115,
   "metadata": {},
   "outputs": [],
   "source": [
    "data_df['Make']=Make"
   ]
  },
  {
   "cell_type": "code",
   "execution_count": 119,
   "metadata": {},
   "outputs": [
    {
     "data": {
      "text/html": [
       "<div>\n",
       "<style scoped>\n",
       "    .dataframe tbody tr th:only-of-type {\n",
       "        vertical-align: middle;\n",
       "    }\n",
       "\n",
       "    .dataframe tbody tr th {\n",
       "        vertical-align: top;\n",
       "    }\n",
       "\n",
       "    .dataframe thead th {\n",
       "        text-align: right;\n",
       "    }\n",
       "</style>\n",
       "<table border=\"1\" class=\"dataframe\">\n",
       "  <thead>\n",
       "    <tr style=\"text-align: right;\">\n",
       "      <th></th>\n",
       "      <th>Price</th>\n",
       "      <th>Age</th>\n",
       "      <th>KM</th>\n",
       "      <th>FuelType</th>\n",
       "      <th>HP</th>\n",
       "      <th>MetColor</th>\n",
       "      <th>Automatic</th>\n",
       "      <th>CC</th>\n",
       "      <th>Doors</th>\n",
       "      <th>Weight</th>\n",
       "      <th>Cylinders</th>\n",
       "      <th>Make</th>\n",
       "    </tr>\n",
       "  </thead>\n",
       "  <tbody>\n",
       "    <tr>\n",
       "      <th>0</th>\n",
       "      <td>13500</td>\n",
       "      <td>23.0</td>\n",
       "      <td>46986</td>\n",
       "      <td>Diesel</td>\n",
       "      <td>90</td>\n",
       "      <td>1</td>\n",
       "      <td>0</td>\n",
       "      <td>2000.0</td>\n",
       "      <td>3</td>\n",
       "      <td>1165.0</td>\n",
       "      <td>6</td>\n",
       "      <td>Eicher Motors</td>\n",
       "    </tr>\n",
       "    <tr>\n",
       "      <th>1</th>\n",
       "      <td>13750</td>\n",
       "      <td>23.0</td>\n",
       "      <td>72937</td>\n",
       "      <td>Diesel</td>\n",
       "      <td>90</td>\n",
       "      <td>1</td>\n",
       "      <td>0</td>\n",
       "      <td>2000.0</td>\n",
       "      <td>3</td>\n",
       "      <td>1165.0</td>\n",
       "      <td>3</td>\n",
       "      <td>Chevrolet</td>\n",
       "    </tr>\n",
       "    <tr>\n",
       "      <th>2</th>\n",
       "      <td>13950</td>\n",
       "      <td>24.0</td>\n",
       "      <td>41711</td>\n",
       "      <td>Diesel</td>\n",
       "      <td>90</td>\n",
       "      <td>1</td>\n",
       "      <td>0</td>\n",
       "      <td>2000.0</td>\n",
       "      <td>3</td>\n",
       "      <td>1165.0</td>\n",
       "      <td>12</td>\n",
       "      <td>Kia</td>\n",
       "    </tr>\n",
       "    <tr>\n",
       "      <th>3</th>\n",
       "      <td>14950</td>\n",
       "      <td>26.0</td>\n",
       "      <td>48000</td>\n",
       "      <td>Diesel</td>\n",
       "      <td>90</td>\n",
       "      <td>0</td>\n",
       "      <td>0</td>\n",
       "      <td>2000.0</td>\n",
       "      <td>3</td>\n",
       "      <td>1165.0</td>\n",
       "      <td>12</td>\n",
       "      <td>Bugatti</td>\n",
       "    </tr>\n",
       "    <tr>\n",
       "      <th>4</th>\n",
       "      <td>13750</td>\n",
       "      <td>30.0</td>\n",
       "      <td>38500</td>\n",
       "      <td>Diesel</td>\n",
       "      <td>90</td>\n",
       "      <td>0</td>\n",
       "      <td>0</td>\n",
       "      <td>2000.0</td>\n",
       "      <td>3</td>\n",
       "      <td>1170.0</td>\n",
       "      <td>12</td>\n",
       "      <td>GM</td>\n",
       "    </tr>\n",
       "    <tr>\n",
       "      <th>5</th>\n",
       "      <td>12950</td>\n",
       "      <td>32.0</td>\n",
       "      <td>61000</td>\n",
       "      <td>Diesel</td>\n",
       "      <td>90</td>\n",
       "      <td>0</td>\n",
       "      <td>0</td>\n",
       "      <td>2000.0</td>\n",
       "      <td>3</td>\n",
       "      <td>1170.0</td>\n",
       "      <td>6</td>\n",
       "      <td>Dodge</td>\n",
       "    </tr>\n",
       "    <tr>\n",
       "      <th>6</th>\n",
       "      <td>16900</td>\n",
       "      <td>27.0</td>\n",
       "      <td>94612</td>\n",
       "      <td>Diesel</td>\n",
       "      <td>90</td>\n",
       "      <td>1</td>\n",
       "      <td>0</td>\n",
       "      <td>2000.0</td>\n",
       "      <td>3</td>\n",
       "      <td>1245.0</td>\n",
       "      <td>12</td>\n",
       "      <td>Alfa Romeo</td>\n",
       "    </tr>\n",
       "    <tr>\n",
       "      <th>7</th>\n",
       "      <td>18600</td>\n",
       "      <td>30.0</td>\n",
       "      <td>75889</td>\n",
       "      <td>Diesel</td>\n",
       "      <td>90</td>\n",
       "      <td>1</td>\n",
       "      <td>0</td>\n",
       "      <td>2000.0</td>\n",
       "      <td>3</td>\n",
       "      <td>1245.0</td>\n",
       "      <td>8</td>\n",
       "      <td>Isuzu</td>\n",
       "    </tr>\n",
       "    <tr>\n",
       "      <th>8</th>\n",
       "      <td>21500</td>\n",
       "      <td>27.0</td>\n",
       "      <td>19700</td>\n",
       "      <td>Petrol</td>\n",
       "      <td>192</td>\n",
       "      <td>0</td>\n",
       "      <td>0</td>\n",
       "      <td>1800.0</td>\n",
       "      <td>3</td>\n",
       "      <td>1185.0</td>\n",
       "      <td>6</td>\n",
       "      <td>GM</td>\n",
       "    </tr>\n",
       "    <tr>\n",
       "      <th>9</th>\n",
       "      <td>12950</td>\n",
       "      <td>23.0</td>\n",
       "      <td>71138</td>\n",
       "      <td>Diesel</td>\n",
       "      <td>69</td>\n",
       "      <td>0</td>\n",
       "      <td>0</td>\n",
       "      <td>1900.0</td>\n",
       "      <td>3</td>\n",
       "      <td>1105.0</td>\n",
       "      <td>8</td>\n",
       "      <td>Dodge</td>\n",
       "    </tr>\n",
       "    <tr>\n",
       "      <th>10</th>\n",
       "      <td>20950</td>\n",
       "      <td>25.0</td>\n",
       "      <td>31461</td>\n",
       "      <td>Petrol</td>\n",
       "      <td>192</td>\n",
       "      <td>0</td>\n",
       "      <td>0</td>\n",
       "      <td>1800.0</td>\n",
       "      <td>3</td>\n",
       "      <td>1185.0</td>\n",
       "      <td>8</td>\n",
       "      <td>Alfa Romeo</td>\n",
       "    </tr>\n",
       "    <tr>\n",
       "      <th>11</th>\n",
       "      <td>19950</td>\n",
       "      <td>22.0</td>\n",
       "      <td>43610</td>\n",
       "      <td>Petrol</td>\n",
       "      <td>192</td>\n",
       "      <td>0</td>\n",
       "      <td>0</td>\n",
       "      <td>1800.0</td>\n",
       "      <td>3</td>\n",
       "      <td>1185.0</td>\n",
       "      <td>8</td>\n",
       "      <td>Dodge</td>\n",
       "    </tr>\n",
       "    <tr>\n",
       "      <th>12</th>\n",
       "      <td>19600</td>\n",
       "      <td>25.0</td>\n",
       "      <td>32189</td>\n",
       "      <td>Petrol</td>\n",
       "      <td>192</td>\n",
       "      <td>0</td>\n",
       "      <td>0</td>\n",
       "      <td>1800.0</td>\n",
       "      <td>3</td>\n",
       "      <td>1185.0</td>\n",
       "      <td>12</td>\n",
       "      <td>Hyundai</td>\n",
       "    </tr>\n",
       "    <tr>\n",
       "      <th>13</th>\n",
       "      <td>21500</td>\n",
       "      <td>31.0</td>\n",
       "      <td>23000</td>\n",
       "      <td>Petrol</td>\n",
       "      <td>192</td>\n",
       "      <td>1</td>\n",
       "      <td>0</td>\n",
       "      <td>1800.0</td>\n",
       "      <td>3</td>\n",
       "      <td>1185.0</td>\n",
       "      <td>12</td>\n",
       "      <td>Dodge</td>\n",
       "    </tr>\n",
       "    <tr>\n",
       "      <th>14</th>\n",
       "      <td>22500</td>\n",
       "      <td>32.0</td>\n",
       "      <td>34131</td>\n",
       "      <td>NaN</td>\n",
       "      <td>192</td>\n",
       "      <td>1</td>\n",
       "      <td>0</td>\n",
       "      <td>1800.0</td>\n",
       "      <td>3</td>\n",
       "      <td>1185.0</td>\n",
       "      <td>8</td>\n",
       "      <td>GM</td>\n",
       "    </tr>\n",
       "  </tbody>\n",
       "</table>\n",
       "</div>"
      ],
      "text/plain": [
       "    Price   Age     KM FuelType   HP  MetColor  Automatic      CC  Doors  \\\n",
       "0   13500  23.0  46986   Diesel   90         1          0  2000.0      3   \n",
       "1   13750  23.0  72937   Diesel   90         1          0  2000.0      3   \n",
       "2   13950  24.0  41711   Diesel   90         1          0  2000.0      3   \n",
       "3   14950  26.0  48000   Diesel   90         0          0  2000.0      3   \n",
       "4   13750  30.0  38500   Diesel   90         0          0  2000.0      3   \n",
       "5   12950  32.0  61000   Diesel   90         0          0  2000.0      3   \n",
       "6   16900  27.0  94612   Diesel   90         1          0  2000.0      3   \n",
       "7   18600  30.0  75889   Diesel   90         1          0  2000.0      3   \n",
       "8   21500  27.0  19700   Petrol  192         0          0  1800.0      3   \n",
       "9   12950  23.0  71138   Diesel   69         0          0  1900.0      3   \n",
       "10  20950  25.0  31461   Petrol  192         0          0  1800.0      3   \n",
       "11  19950  22.0  43610   Petrol  192         0          0  1800.0      3   \n",
       "12  19600  25.0  32189   Petrol  192         0          0  1800.0      3   \n",
       "13  21500  31.0  23000   Petrol  192         1          0  1800.0      3   \n",
       "14  22500  32.0  34131      NaN  192         1          0  1800.0      3   \n",
       "\n",
       "    Weight  Cylinders           Make  \n",
       "0   1165.0          6  Eicher Motors  \n",
       "1   1165.0          3      Chevrolet  \n",
       "2   1165.0         12            Kia  \n",
       "3   1165.0         12        Bugatti  \n",
       "4   1170.0         12             GM  \n",
       "5   1170.0          6          Dodge  \n",
       "6   1245.0         12     Alfa Romeo  \n",
       "7   1245.0          8          Isuzu  \n",
       "8   1185.0          6             GM  \n",
       "9   1105.0          8          Dodge  \n",
       "10  1185.0          8     Alfa Romeo  \n",
       "11  1185.0          8          Dodge  \n",
       "12  1185.0         12        Hyundai  \n",
       "13  1185.0         12          Dodge  \n",
       "14  1185.0          8             GM  "
      ]
     },
     "execution_count": 119,
     "metadata": {},
     "output_type": "execute_result"
    }
   ],
   "source": [
    "data_df.head(n=15)"
   ]
  },
  {
   "cell_type": "markdown",
   "metadata": {},
   "source": [
    "## Creating a subset dataframe"
   ]
  },
  {
   "cell_type": "code",
   "execution_count": 47,
   "metadata": {},
   "outputs": [],
   "source": [
    "dwarf_df = data_df.iloc[4:6,6:11]"
   ]
  },
  {
   "cell_type": "code",
   "execution_count": 48,
   "metadata": {
    "scrolled": true
   },
   "outputs": [
    {
     "data": {
      "text/html": [
       "<div>\n",
       "<style scoped>\n",
       "    .dataframe tbody tr th:only-of-type {\n",
       "        vertical-align: middle;\n",
       "    }\n",
       "\n",
       "    .dataframe tbody tr th {\n",
       "        vertical-align: top;\n",
       "    }\n",
       "\n",
       "    .dataframe thead th {\n",
       "        text-align: right;\n",
       "    }\n",
       "</style>\n",
       "<table border=\"1\" class=\"dataframe\">\n",
       "  <thead>\n",
       "    <tr style=\"text-align: right;\">\n",
       "      <th></th>\n",
       "      <th>Automatic</th>\n",
       "      <th>CC</th>\n",
       "      <th>Doors</th>\n",
       "      <th>Weight</th>\n",
       "      <th>Cylinders</th>\n",
       "    </tr>\n",
       "  </thead>\n",
       "  <tbody>\n",
       "    <tr>\n",
       "      <th>4</th>\n",
       "      <td>0</td>\n",
       "      <td>2000.0</td>\n",
       "      <td>3</td>\n",
       "      <td>1170.0</td>\n",
       "      <td>12</td>\n",
       "    </tr>\n",
       "    <tr>\n",
       "      <th>5</th>\n",
       "      <td>0</td>\n",
       "      <td>2000.0</td>\n",
       "      <td>3</td>\n",
       "      <td>1170.0</td>\n",
       "      <td>6</td>\n",
       "    </tr>\n",
       "  </tbody>\n",
       "</table>\n",
       "</div>"
      ],
      "text/plain": [
       "   Automatic      CC  Doors  Weight  Cylinders\n",
       "4          0  2000.0      3  1170.0         12\n",
       "5          0  2000.0      3  1170.0          6"
      ]
     },
     "execution_count": 48,
     "metadata": {},
     "output_type": "execute_result"
    }
   ],
   "source": [
    "dwarf_df"
   ]
  },
  {
   "cell_type": "code",
   "execution_count": 50,
   "metadata": {},
   "outputs": [],
   "source": [
    "minion_df = data_df.iloc[[0,1,2,3,4,5],3:5]"
   ]
  },
  {
   "cell_type": "code",
   "execution_count": 51,
   "metadata": {
    "scrolled": true
   },
   "outputs": [
    {
     "data": {
      "text/html": [
       "<div>\n",
       "<style scoped>\n",
       "    .dataframe tbody tr th:only-of-type {\n",
       "        vertical-align: middle;\n",
       "    }\n",
       "\n",
       "    .dataframe tbody tr th {\n",
       "        vertical-align: top;\n",
       "    }\n",
       "\n",
       "    .dataframe thead th {\n",
       "        text-align: right;\n",
       "    }\n",
       "</style>\n",
       "<table border=\"1\" class=\"dataframe\">\n",
       "  <thead>\n",
       "    <tr style=\"text-align: right;\">\n",
       "      <th></th>\n",
       "      <th>FuelType</th>\n",
       "      <th>HP</th>\n",
       "    </tr>\n",
       "  </thead>\n",
       "  <tbody>\n",
       "    <tr>\n",
       "      <th>0</th>\n",
       "      <td>Diesel</td>\n",
       "      <td>90</td>\n",
       "    </tr>\n",
       "    <tr>\n",
       "      <th>1</th>\n",
       "      <td>Diesel</td>\n",
       "      <td>90</td>\n",
       "    </tr>\n",
       "    <tr>\n",
       "      <th>2</th>\n",
       "      <td>Diesel</td>\n",
       "      <td>90</td>\n",
       "    </tr>\n",
       "    <tr>\n",
       "      <th>3</th>\n",
       "      <td>Diesel</td>\n",
       "      <td>90</td>\n",
       "    </tr>\n",
       "    <tr>\n",
       "      <th>4</th>\n",
       "      <td>Diesel</td>\n",
       "      <td>90</td>\n",
       "    </tr>\n",
       "    <tr>\n",
       "      <th>5</th>\n",
       "      <td>Diesel</td>\n",
       "      <td>90</td>\n",
       "    </tr>\n",
       "  </tbody>\n",
       "</table>\n",
       "</div>"
      ],
      "text/plain": [
       "  FuelType  HP\n",
       "0   Diesel  90\n",
       "1   Diesel  90\n",
       "2   Diesel  90\n",
       "3   Diesel  90\n",
       "4   Diesel  90\n",
       "5   Diesel  90"
      ]
     },
     "execution_count": 51,
     "metadata": {},
     "output_type": "execute_result"
    }
   ],
   "source": [
    "minion_df"
   ]
  },
  {
   "cell_type": "markdown",
   "metadata": {},
   "source": [
    "## Delete any row from dataframe using drop(), index()"
   ]
  },
  {
   "cell_type": "code",
   "execution_count": 92,
   "metadata": {},
   "outputs": [],
   "source": [
    "example_sub_df = data_df.iloc[0:6,0:6]"
   ]
  },
  {
   "cell_type": "code",
   "execution_count": 64,
   "metadata": {
    "scrolled": true
   },
   "outputs": [
    {
     "data": {
      "text/html": [
       "<div>\n",
       "<style scoped>\n",
       "    .dataframe tbody tr th:only-of-type {\n",
       "        vertical-align: middle;\n",
       "    }\n",
       "\n",
       "    .dataframe tbody tr th {\n",
       "        vertical-align: top;\n",
       "    }\n",
       "\n",
       "    .dataframe thead th {\n",
       "        text-align: right;\n",
       "    }\n",
       "</style>\n",
       "<table border=\"1\" class=\"dataframe\">\n",
       "  <thead>\n",
       "    <tr style=\"text-align: right;\">\n",
       "      <th></th>\n",
       "      <th>Price</th>\n",
       "      <th>Age</th>\n",
       "      <th>KM</th>\n",
       "      <th>FuelType</th>\n",
       "      <th>HP</th>\n",
       "      <th>MetColor</th>\n",
       "    </tr>\n",
       "  </thead>\n",
       "  <tbody>\n",
       "    <tr>\n",
       "      <th>0</th>\n",
       "      <td>13500</td>\n",
       "      <td>23.0</td>\n",
       "      <td>46986</td>\n",
       "      <td>Diesel</td>\n",
       "      <td>90</td>\n",
       "      <td>1</td>\n",
       "    </tr>\n",
       "    <tr>\n",
       "      <th>1</th>\n",
       "      <td>13750</td>\n",
       "      <td>23.0</td>\n",
       "      <td>72937</td>\n",
       "      <td>Diesel</td>\n",
       "      <td>90</td>\n",
       "      <td>1</td>\n",
       "    </tr>\n",
       "    <tr>\n",
       "      <th>2</th>\n",
       "      <td>13950</td>\n",
       "      <td>24.0</td>\n",
       "      <td>41711</td>\n",
       "      <td>Diesel</td>\n",
       "      <td>90</td>\n",
       "      <td>1</td>\n",
       "    </tr>\n",
       "    <tr>\n",
       "      <th>3</th>\n",
       "      <td>14950</td>\n",
       "      <td>26.0</td>\n",
       "      <td>48000</td>\n",
       "      <td>Diesel</td>\n",
       "      <td>90</td>\n",
       "      <td>0</td>\n",
       "    </tr>\n",
       "    <tr>\n",
       "      <th>4</th>\n",
       "      <td>13750</td>\n",
       "      <td>30.0</td>\n",
       "      <td>38500</td>\n",
       "      <td>Diesel</td>\n",
       "      <td>90</td>\n",
       "      <td>0</td>\n",
       "    </tr>\n",
       "    <tr>\n",
       "      <th>5</th>\n",
       "      <td>12950</td>\n",
       "      <td>32.0</td>\n",
       "      <td>61000</td>\n",
       "      <td>Diesel</td>\n",
       "      <td>90</td>\n",
       "      <td>0</td>\n",
       "    </tr>\n",
       "  </tbody>\n",
       "</table>\n",
       "</div>"
      ],
      "text/plain": [
       "   Price   Age     KM FuelType  HP  MetColor\n",
       "0  13500  23.0  46986   Diesel  90         1\n",
       "1  13750  23.0  72937   Diesel  90         1\n",
       "2  13950  24.0  41711   Diesel  90         1\n",
       "3  14950  26.0  48000   Diesel  90         0\n",
       "4  13750  30.0  38500   Diesel  90         0\n",
       "5  12950  32.0  61000   Diesel  90         0"
      ]
     },
     "execution_count": 64,
     "metadata": {},
     "output_type": "execute_result"
    }
   ],
   "source": [
    "example_sub_df"
   ]
  },
  {
   "cell_type": "markdown",
   "metadata": {},
   "source": [
    "### Delete last row"
   ]
  },
  {
   "cell_type": "code",
   "execution_count": 96,
   "metadata": {},
   "outputs": [],
   "source": [
    "example_sub_df.drop(index=example_sub_df.index[-1], axis=0, inplace=True)"
   ]
  },
  {
   "cell_type": "code",
   "execution_count": 97,
   "metadata": {},
   "outputs": [
    {
     "data": {
      "text/html": [
       "<div>\n",
       "<style scoped>\n",
       "    .dataframe tbody tr th:only-of-type {\n",
       "        vertical-align: middle;\n",
       "    }\n",
       "\n",
       "    .dataframe tbody tr th {\n",
       "        vertical-align: top;\n",
       "    }\n",
       "\n",
       "    .dataframe thead th {\n",
       "        text-align: right;\n",
       "    }\n",
       "</style>\n",
       "<table border=\"1\" class=\"dataframe\">\n",
       "  <thead>\n",
       "    <tr style=\"text-align: right;\">\n",
       "      <th></th>\n",
       "      <th>Price</th>\n",
       "      <th>Age</th>\n",
       "      <th>KM</th>\n",
       "      <th>FuelType</th>\n",
       "      <th>HP</th>\n",
       "      <th>MetColor</th>\n",
       "    </tr>\n",
       "  </thead>\n",
       "  <tbody>\n",
       "    <tr>\n",
       "      <th>0</th>\n",
       "      <td>13500</td>\n",
       "      <td>23.0</td>\n",
       "      <td>46986</td>\n",
       "      <td>Diesel</td>\n",
       "      <td>90</td>\n",
       "      <td>1</td>\n",
       "    </tr>\n",
       "    <tr>\n",
       "      <th>1</th>\n",
       "      <td>13750</td>\n",
       "      <td>23.0</td>\n",
       "      <td>72937</td>\n",
       "      <td>Diesel</td>\n",
       "      <td>90</td>\n",
       "      <td>1</td>\n",
       "    </tr>\n",
       "    <tr>\n",
       "      <th>3</th>\n",
       "      <td>14950</td>\n",
       "      <td>26.0</td>\n",
       "      <td>48000</td>\n",
       "      <td>Diesel</td>\n",
       "      <td>90</td>\n",
       "      <td>0</td>\n",
       "    </tr>\n",
       "    <tr>\n",
       "      <th>4</th>\n",
       "      <td>13750</td>\n",
       "      <td>30.0</td>\n",
       "      <td>38500</td>\n",
       "      <td>Diesel</td>\n",
       "      <td>90</td>\n",
       "      <td>0</td>\n",
       "    </tr>\n",
       "  </tbody>\n",
       "</table>\n",
       "</div>"
      ],
      "text/plain": [
       "   Price   Age     KM FuelType  HP  MetColor\n",
       "0  13500  23.0  46986   Diesel  90         1\n",
       "1  13750  23.0  72937   Diesel  90         1\n",
       "3  14950  26.0  48000   Diesel  90         0\n",
       "4  13750  30.0  38500   Diesel  90         0"
      ]
     },
     "execution_count": 97,
     "metadata": {},
     "output_type": "execute_result"
    }
   ],
   "source": [
    "example_sub_df"
   ]
  },
  {
   "cell_type": "markdown",
   "metadata": {},
   "source": [
    "### Delete 3rd row"
   ]
  },
  {
   "cell_type": "code",
   "execution_count": 94,
   "metadata": {},
   "outputs": [],
   "source": [
    "example_sub_df.drop(index=example_sub_df.index[2], axis=0, inplace=True)"
   ]
  },
  {
   "cell_type": "code",
   "execution_count": 95,
   "metadata": {
    "scrolled": false
   },
   "outputs": [
    {
     "data": {
      "text/html": [
       "<div>\n",
       "<style scoped>\n",
       "    .dataframe tbody tr th:only-of-type {\n",
       "        vertical-align: middle;\n",
       "    }\n",
       "\n",
       "    .dataframe tbody tr th {\n",
       "        vertical-align: top;\n",
       "    }\n",
       "\n",
       "    .dataframe thead th {\n",
       "        text-align: right;\n",
       "    }\n",
       "</style>\n",
       "<table border=\"1\" class=\"dataframe\">\n",
       "  <thead>\n",
       "    <tr style=\"text-align: right;\">\n",
       "      <th></th>\n",
       "      <th>Price</th>\n",
       "      <th>Age</th>\n",
       "      <th>KM</th>\n",
       "      <th>FuelType</th>\n",
       "      <th>HP</th>\n",
       "      <th>MetColor</th>\n",
       "    </tr>\n",
       "  </thead>\n",
       "  <tbody>\n",
       "    <tr>\n",
       "      <th>0</th>\n",
       "      <td>13500</td>\n",
       "      <td>23.0</td>\n",
       "      <td>46986</td>\n",
       "      <td>Diesel</td>\n",
       "      <td>90</td>\n",
       "      <td>1</td>\n",
       "    </tr>\n",
       "    <tr>\n",
       "      <th>1</th>\n",
       "      <td>13750</td>\n",
       "      <td>23.0</td>\n",
       "      <td>72937</td>\n",
       "      <td>Diesel</td>\n",
       "      <td>90</td>\n",
       "      <td>1</td>\n",
       "    </tr>\n",
       "    <tr>\n",
       "      <th>3</th>\n",
       "      <td>14950</td>\n",
       "      <td>26.0</td>\n",
       "      <td>48000</td>\n",
       "      <td>Diesel</td>\n",
       "      <td>90</td>\n",
       "      <td>0</td>\n",
       "    </tr>\n",
       "    <tr>\n",
       "      <th>4</th>\n",
       "      <td>13750</td>\n",
       "      <td>30.0</td>\n",
       "      <td>38500</td>\n",
       "      <td>Diesel</td>\n",
       "      <td>90</td>\n",
       "      <td>0</td>\n",
       "    </tr>\n",
       "    <tr>\n",
       "      <th>5</th>\n",
       "      <td>12950</td>\n",
       "      <td>32.0</td>\n",
       "      <td>61000</td>\n",
       "      <td>Diesel</td>\n",
       "      <td>90</td>\n",
       "      <td>0</td>\n",
       "    </tr>\n",
       "  </tbody>\n",
       "</table>\n",
       "</div>"
      ],
      "text/plain": [
       "   Price   Age     KM FuelType  HP  MetColor\n",
       "0  13500  23.0  46986   Diesel  90         1\n",
       "1  13750  23.0  72937   Diesel  90         1\n",
       "3  14950  26.0  48000   Diesel  90         0\n",
       "4  13750  30.0  38500   Diesel  90         0\n",
       "5  12950  32.0  61000   Diesel  90         0"
      ]
     },
     "execution_count": 95,
     "metadata": {},
     "output_type": "execute_result"
    }
   ],
   "source": [
    "example_sub_df"
   ]
  },
  {
   "cell_type": "code",
   "execution_count": 83,
   "metadata": {},
   "outputs": [],
   "source": [
    "# example_sub_df = pd.DataFrame(example_sub_df).sort_index()"
   ]
  },
  {
   "cell_type": "markdown",
   "metadata": {},
   "source": [
    "### Deleting last column"
   ]
  },
  {
   "cell_type": "markdown",
   "metadata": {},
   "source": [
    "#### For a long dataset its cumbersome to go and find the column number"
   ]
  },
  {
   "cell_type": "code",
   "execution_count": 106,
   "metadata": {
    "scrolled": true
   },
   "outputs": [],
   "source": [
    "# This gives the last column, in our case last is 6th column, i.e 5th index\n",
    "# example_sub_df.shape[1]"
   ]
  },
  {
   "cell_type": "code",
   "execution_count": 112,
   "metadata": {},
   "outputs": [],
   "source": [
    "# It's MetColor column which is 6th and at 5th index and it will be dropped\n",
    "# x = example_sub_df.shape[1]"
   ]
  },
  {
   "cell_type": "code",
   "execution_count": 103,
   "metadata": {},
   "outputs": [],
   "source": [
    "example_sub_df.drop(example_sub_df.columns[x-1], axis=1, inplace=True)"
   ]
  },
  {
   "cell_type": "code",
   "execution_count": 104,
   "metadata": {},
   "outputs": [
    {
     "data": {
      "text/html": [
       "<div>\n",
       "<style scoped>\n",
       "    .dataframe tbody tr th:only-of-type {\n",
       "        vertical-align: middle;\n",
       "    }\n",
       "\n",
       "    .dataframe tbody tr th {\n",
       "        vertical-align: top;\n",
       "    }\n",
       "\n",
       "    .dataframe thead th {\n",
       "        text-align: right;\n",
       "    }\n",
       "</style>\n",
       "<table border=\"1\" class=\"dataframe\">\n",
       "  <thead>\n",
       "    <tr style=\"text-align: right;\">\n",
       "      <th></th>\n",
       "      <th>Price</th>\n",
       "      <th>Age</th>\n",
       "      <th>KM</th>\n",
       "      <th>FuelType</th>\n",
       "      <th>HP</th>\n",
       "    </tr>\n",
       "  </thead>\n",
       "  <tbody>\n",
       "    <tr>\n",
       "      <th>0</th>\n",
       "      <td>13500</td>\n",
       "      <td>23.0</td>\n",
       "      <td>46986</td>\n",
       "      <td>Diesel</td>\n",
       "      <td>90</td>\n",
       "    </tr>\n",
       "    <tr>\n",
       "      <th>1</th>\n",
       "      <td>13750</td>\n",
       "      <td>23.0</td>\n",
       "      <td>72937</td>\n",
       "      <td>Diesel</td>\n",
       "      <td>90</td>\n",
       "    </tr>\n",
       "    <tr>\n",
       "      <th>3</th>\n",
       "      <td>14950</td>\n",
       "      <td>26.0</td>\n",
       "      <td>48000</td>\n",
       "      <td>Diesel</td>\n",
       "      <td>90</td>\n",
       "    </tr>\n",
       "    <tr>\n",
       "      <th>4</th>\n",
       "      <td>13750</td>\n",
       "      <td>30.0</td>\n",
       "      <td>38500</td>\n",
       "      <td>Diesel</td>\n",
       "      <td>90</td>\n",
       "    </tr>\n",
       "  </tbody>\n",
       "</table>\n",
       "</div>"
      ],
      "text/plain": [
       "   Price   Age     KM FuelType  HP\n",
       "0  13500  23.0  46986   Diesel  90\n",
       "1  13750  23.0  72937   Diesel  90\n",
       "3  14950  26.0  48000   Diesel  90\n",
       "4  13750  30.0  38500   Diesel  90"
      ]
     },
     "execution_count": 104,
     "metadata": {},
     "output_type": "execute_result"
    }
   ],
   "source": [
    "# You can see MetColor is gone\n",
    "# example_sub_df"
   ]
  },
  {
   "cell_type": "markdown",
   "metadata": {},
   "source": [
    "### Deleting 3rd column"
   ]
  },
  {
   "cell_type": "code",
   "execution_count": 109,
   "metadata": {},
   "outputs": [],
   "source": [
    "# 3rd column means 2nd index - i.e KM will be dropped\n",
    "# example_sub_df.drop(example_sub_df.columns[2], axis=1, inplace=True)"
   ]
  },
  {
   "cell_type": "code",
   "execution_count": 113,
   "metadata": {
    "scrolled": true
   },
   "outputs": [
    {
     "data": {
      "text/html": [
       "<div>\n",
       "<style scoped>\n",
       "    .dataframe tbody tr th:only-of-type {\n",
       "        vertical-align: middle;\n",
       "    }\n",
       "\n",
       "    .dataframe tbody tr th {\n",
       "        vertical-align: top;\n",
       "    }\n",
       "\n",
       "    .dataframe thead th {\n",
       "        text-align: right;\n",
       "    }\n",
       "</style>\n",
       "<table border=\"1\" class=\"dataframe\">\n",
       "  <thead>\n",
       "    <tr style=\"text-align: right;\">\n",
       "      <th></th>\n",
       "      <th>Price</th>\n",
       "      <th>Age</th>\n",
       "      <th>FuelType</th>\n",
       "      <th>HP</th>\n",
       "    </tr>\n",
       "  </thead>\n",
       "  <tbody>\n",
       "    <tr>\n",
       "      <th>0</th>\n",
       "      <td>13500</td>\n",
       "      <td>23.0</td>\n",
       "      <td>Diesel</td>\n",
       "      <td>90</td>\n",
       "    </tr>\n",
       "    <tr>\n",
       "      <th>1</th>\n",
       "      <td>13750</td>\n",
       "      <td>23.0</td>\n",
       "      <td>Diesel</td>\n",
       "      <td>90</td>\n",
       "    </tr>\n",
       "    <tr>\n",
       "      <th>3</th>\n",
       "      <td>14950</td>\n",
       "      <td>26.0</td>\n",
       "      <td>Diesel</td>\n",
       "      <td>90</td>\n",
       "    </tr>\n",
       "    <tr>\n",
       "      <th>4</th>\n",
       "      <td>13750</td>\n",
       "      <td>30.0</td>\n",
       "      <td>Diesel</td>\n",
       "      <td>90</td>\n",
       "    </tr>\n",
       "  </tbody>\n",
       "</table>\n",
       "</div>"
      ],
      "text/plain": [
       "   Price   Age FuelType  HP\n",
       "0  13500  23.0   Diesel  90\n",
       "1  13750  23.0   Diesel  90\n",
       "3  14950  26.0   Diesel  90\n",
       "4  13750  30.0   Diesel  90"
      ]
     },
     "execution_count": 113,
     "metadata": {},
     "output_type": "execute_result"
    }
   ],
   "source": [
    "# You can see KM is gone!\n",
    "example_sub_df"
   ]
  },
  {
   "cell_type": "markdown",
   "metadata": {},
   "source": [
    "## Deleting HP column"
   ]
  },
  {
   "cell_type": "code",
   "execution_count": 129,
   "metadata": {},
   "outputs": [],
   "source": [
    "example_sub_df.drop(['HP'], axis=1, inplace=True)"
   ]
  },
  {
   "cell_type": "code",
   "execution_count": 130,
   "metadata": {},
   "outputs": [
    {
     "data": {
      "text/html": [
       "<div>\n",
       "<style scoped>\n",
       "    .dataframe tbody tr th:only-of-type {\n",
       "        vertical-align: middle;\n",
       "    }\n",
       "\n",
       "    .dataframe tbody tr th {\n",
       "        vertical-align: top;\n",
       "    }\n",
       "\n",
       "    .dataframe thead th {\n",
       "        text-align: right;\n",
       "    }\n",
       "</style>\n",
       "<table border=\"1\" class=\"dataframe\">\n",
       "  <thead>\n",
       "    <tr style=\"text-align: right;\">\n",
       "      <th></th>\n",
       "      <th>Price</th>\n",
       "      <th>Age</th>\n",
       "      <th>FuelType</th>\n",
       "    </tr>\n",
       "  </thead>\n",
       "  <tbody>\n",
       "    <tr>\n",
       "      <th>0</th>\n",
       "      <td>13500</td>\n",
       "      <td>23.0</td>\n",
       "      <td>Diesel</td>\n",
       "    </tr>\n",
       "    <tr>\n",
       "      <th>1</th>\n",
       "      <td>13750</td>\n",
       "      <td>23.0</td>\n",
       "      <td>Diesel</td>\n",
       "    </tr>\n",
       "    <tr>\n",
       "      <th>3</th>\n",
       "      <td>14950</td>\n",
       "      <td>26.0</td>\n",
       "      <td>Diesel</td>\n",
       "    </tr>\n",
       "    <tr>\n",
       "      <th>4</th>\n",
       "      <td>13750</td>\n",
       "      <td>30.0</td>\n",
       "      <td>Diesel</td>\n",
       "    </tr>\n",
       "  </tbody>\n",
       "</table>\n",
       "</div>"
      ],
      "text/plain": [
       "   Price   Age FuelType\n",
       "0  13500  23.0   Diesel\n",
       "1  13750  23.0   Diesel\n",
       "3  14950  26.0   Diesel\n",
       "4  13750  30.0   Diesel"
      ]
     },
     "execution_count": 130,
     "metadata": {},
     "output_type": "execute_result"
    }
   ],
   "source": [
    "example_sub_df"
   ]
  },
  {
   "cell_type": "markdown",
   "metadata": {},
   "source": [
    "# Date handling"
   ]
  },
  {
   "cell_type": "code",
   "execution_count": 3,
   "metadata": {},
   "outputs": [],
   "source": [
    "medical_table = pd.DataFrame()"
   ]
  },
  {
   "cell_type": "markdown",
   "metadata": {},
   "source": [
    "## A project to create a column with randomized date values "
   ]
  },
  {
   "cell_type": "markdown",
   "metadata": {},
   "source": [
    "### A. Converting datetime indices to string"
   ]
  },
  {
   "cell_type": "markdown",
   "metadata": {},
   "source": [
    "#### First creating a data structure of 100 datetime indices"
   ]
  },
  {
   "cell_type": "code",
   "execution_count": 6,
   "metadata": {},
   "outputs": [],
   "source": [
    "Date_Of_Mfg = [] \n",
    "x = pd.date_range('11/12/2022', periods = 100, freq = 'D') "
   ]
  },
  {
   "cell_type": "markdown",
   "metadata": {},
   "source": [
    "#### Then converting the datetime indices data structure into a list"
   ]
  },
  {
   "cell_type": "code",
   "execution_count": 24,
   "metadata": {},
   "outputs": [],
   "source": [
    "xl = x.to_list()"
   ]
  },
  {
   "cell_type": "code",
   "execution_count": 29,
   "metadata": {},
   "outputs": [
    {
     "data": {
      "text/plain": [
       "100"
      ]
     },
     "execution_count": 29,
     "metadata": {},
     "output_type": "execute_result"
    }
   ],
   "source": [
    "len(xl)"
   ]
  },
  {
   "cell_type": "markdown",
   "metadata": {},
   "source": [
    "#### Then stringifying the listified datetime indices values and dumping them in a new list"
   ]
  },
  {
   "cell_type": "code",
   "execution_count": 41,
   "metadata": {},
   "outputs": [],
   "source": [
    "date_set = []\n",
    "for i in range(len(xl)):\n",
    "    date_set.append(str(xl[i]))"
   ]
  },
  {
   "cell_type": "code",
   "execution_count": 49,
   "metadata": {},
   "outputs": [
    {
     "data": {
      "text/plain": [
       "['2022-11-12 00:00:00',\n",
       " '2022-11-13 00:00:00',\n",
       " '2022-11-14 00:00:00',\n",
       " '2022-11-15 00:00:00',\n",
       " '2022-11-16 00:00:00',\n",
       " '2022-11-17 00:00:00',\n",
       " '2022-11-18 00:00:00',\n",
       " '2022-11-19 00:00:00',\n",
       " '2022-11-20 00:00:00',\n",
       " '2022-11-21 00:00:00',\n",
       " '2022-11-22 00:00:00',\n",
       " '2022-11-23 00:00:00',\n",
       " '2022-11-24 00:00:00',\n",
       " '2022-11-25 00:00:00',\n",
       " '2022-11-26 00:00:00',\n",
       " '2022-11-27 00:00:00',\n",
       " '2022-11-28 00:00:00',\n",
       " '2022-11-29 00:00:00',\n",
       " '2022-11-30 00:00:00',\n",
       " '2022-12-01 00:00:00',\n",
       " '2022-12-02 00:00:00',\n",
       " '2022-12-03 00:00:00',\n",
       " '2022-12-04 00:00:00',\n",
       " '2022-12-05 00:00:00',\n",
       " '2022-12-06 00:00:00',\n",
       " '2022-12-07 00:00:00',\n",
       " '2022-12-08 00:00:00',\n",
       " '2022-12-09 00:00:00',\n",
       " '2022-12-10 00:00:00',\n",
       " '2022-12-11 00:00:00',\n",
       " '2022-12-12 00:00:00',\n",
       " '2022-12-13 00:00:00',\n",
       " '2022-12-14 00:00:00',\n",
       " '2022-12-15 00:00:00',\n",
       " '2022-12-16 00:00:00',\n",
       " '2022-12-17 00:00:00',\n",
       " '2022-12-18 00:00:00',\n",
       " '2022-12-19 00:00:00',\n",
       " '2022-12-20 00:00:00',\n",
       " '2022-12-21 00:00:00',\n",
       " '2022-12-22 00:00:00',\n",
       " '2022-12-23 00:00:00',\n",
       " '2022-12-24 00:00:00',\n",
       " '2022-12-25 00:00:00',\n",
       " '2022-12-26 00:00:00',\n",
       " '2022-12-27 00:00:00',\n",
       " '2022-12-28 00:00:00',\n",
       " '2022-12-29 00:00:00',\n",
       " '2022-12-30 00:00:00',\n",
       " '2022-12-31 00:00:00',\n",
       " '2023-01-01 00:00:00',\n",
       " '2023-01-02 00:00:00',\n",
       " '2023-01-03 00:00:00',\n",
       " '2023-01-04 00:00:00',\n",
       " '2023-01-05 00:00:00',\n",
       " '2023-01-06 00:00:00',\n",
       " '2023-01-07 00:00:00',\n",
       " '2023-01-08 00:00:00',\n",
       " '2023-01-09 00:00:00',\n",
       " '2023-01-10 00:00:00',\n",
       " '2023-01-11 00:00:00',\n",
       " '2023-01-12 00:00:00',\n",
       " '2023-01-13 00:00:00',\n",
       " '2023-01-14 00:00:00',\n",
       " '2023-01-15 00:00:00',\n",
       " '2023-01-16 00:00:00',\n",
       " '2023-01-17 00:00:00',\n",
       " '2023-01-18 00:00:00',\n",
       " '2023-01-19 00:00:00',\n",
       " '2023-01-20 00:00:00',\n",
       " '2023-01-21 00:00:00',\n",
       " '2023-01-22 00:00:00',\n",
       " '2023-01-23 00:00:00',\n",
       " '2023-01-24 00:00:00',\n",
       " '2023-01-25 00:00:00',\n",
       " '2023-01-26 00:00:00',\n",
       " '2023-01-27 00:00:00',\n",
       " '2023-01-28 00:00:00',\n",
       " '2023-01-29 00:00:00',\n",
       " '2023-01-30 00:00:00',\n",
       " '2023-01-31 00:00:00',\n",
       " '2023-02-01 00:00:00',\n",
       " '2023-02-02 00:00:00',\n",
       " '2023-02-03 00:00:00',\n",
       " '2023-02-04 00:00:00',\n",
       " '2023-02-05 00:00:00',\n",
       " '2023-02-06 00:00:00',\n",
       " '2023-02-07 00:00:00',\n",
       " '2023-02-08 00:00:00',\n",
       " '2023-02-09 00:00:00',\n",
       " '2023-02-10 00:00:00',\n",
       " '2023-02-11 00:00:00',\n",
       " '2023-02-12 00:00:00',\n",
       " '2023-02-13 00:00:00',\n",
       " '2023-02-14 00:00:00',\n",
       " '2023-02-15 00:00:00',\n",
       " '2023-02-16 00:00:00',\n",
       " '2023-02-17 00:00:00',\n",
       " '2023-02-18 00:00:00',\n",
       " '2023-02-19 00:00:00']"
      ]
     },
     "execution_count": 49,
     "metadata": {},
     "output_type": "execute_result"
    }
   ],
   "source": [
    "date_set"
   ]
  },
  {
   "cell_type": "code",
   "execution_count": 45,
   "metadata": {},
   "outputs": [
    {
     "data": {
      "text/plain": [
       "list"
      ]
     },
     "execution_count": 45,
     "metadata": {},
     "output_type": "execute_result"
    }
   ],
   "source": [
    "type(date_set)"
   ]
  },
  {
   "cell_type": "markdown",
   "metadata": {},
   "source": [
    "### B. Now creating another new list to contain randomized arrangement of dates"
   ]
  },
  {
   "cell_type": "code",
   "execution_count": 46,
   "metadata": {},
   "outputs": [],
   "source": [
    "Date_Of_Mfg = []\n",
    "for d in range(len(date_set)):\n",
    "    Date_Of_Mfg.append(random.choice(date_set))"
   ]
  },
  {
   "cell_type": "code",
   "execution_count": 47,
   "metadata": {
    "scrolled": true
   },
   "outputs": [
    {
     "data": {
      "text/plain": [
       "['2022-11-13 00:00:00',\n",
       " '2023-01-03 00:00:00',\n",
       " '2023-01-08 00:00:00',\n",
       " '2022-11-30 00:00:00',\n",
       " '2022-12-09 00:00:00',\n",
       " '2023-02-01 00:00:00',\n",
       " '2023-01-11 00:00:00',\n",
       " '2022-11-23 00:00:00',\n",
       " '2023-02-13 00:00:00',\n",
       " '2022-12-09 00:00:00',\n",
       " '2023-01-23 00:00:00',\n",
       " '2022-11-26 00:00:00',\n",
       " '2022-11-23 00:00:00',\n",
       " '2022-11-18 00:00:00',\n",
       " '2022-11-13 00:00:00',\n",
       " '2023-01-28 00:00:00',\n",
       " '2023-01-31 00:00:00',\n",
       " '2023-02-07 00:00:00',\n",
       " '2023-01-17 00:00:00',\n",
       " '2023-02-11 00:00:00',\n",
       " '2023-01-27 00:00:00',\n",
       " '2023-01-06 00:00:00',\n",
       " '2023-01-31 00:00:00',\n",
       " '2023-01-18 00:00:00',\n",
       " '2023-01-08 00:00:00',\n",
       " '2023-01-23 00:00:00',\n",
       " '2023-02-17 00:00:00',\n",
       " '2022-11-21 00:00:00',\n",
       " '2022-12-06 00:00:00',\n",
       " '2022-12-05 00:00:00',\n",
       " '2023-01-03 00:00:00',\n",
       " '2023-01-02 00:00:00',\n",
       " '2022-12-03 00:00:00',\n",
       " '2023-01-10 00:00:00',\n",
       " '2023-01-27 00:00:00',\n",
       " '2023-01-17 00:00:00',\n",
       " '2022-12-15 00:00:00',\n",
       " '2023-01-05 00:00:00',\n",
       " '2022-12-27 00:00:00',\n",
       " '2023-01-12 00:00:00',\n",
       " '2023-02-19 00:00:00',\n",
       " '2022-11-12 00:00:00',\n",
       " '2023-01-05 00:00:00',\n",
       " '2022-12-23 00:00:00',\n",
       " '2023-01-24 00:00:00',\n",
       " '2022-11-29 00:00:00',\n",
       " '2022-12-11 00:00:00',\n",
       " '2022-12-07 00:00:00',\n",
       " '2022-12-24 00:00:00',\n",
       " '2023-01-16 00:00:00',\n",
       " '2022-12-31 00:00:00',\n",
       " '2022-12-07 00:00:00',\n",
       " '2022-11-13 00:00:00',\n",
       " '2022-12-10 00:00:00',\n",
       " '2023-01-09 00:00:00',\n",
       " '2023-01-10 00:00:00',\n",
       " '2023-01-26 00:00:00',\n",
       " '2022-12-13 00:00:00',\n",
       " '2023-01-29 00:00:00',\n",
       " '2023-01-04 00:00:00',\n",
       " '2023-02-15 00:00:00',\n",
       " '2023-02-17 00:00:00',\n",
       " '2023-01-29 00:00:00',\n",
       " '2022-11-13 00:00:00',\n",
       " '2023-01-02 00:00:00',\n",
       " '2023-01-17 00:00:00',\n",
       " '2023-01-02 00:00:00',\n",
       " '2022-12-22 00:00:00',\n",
       " '2022-11-30 00:00:00',\n",
       " '2023-02-09 00:00:00',\n",
       " '2022-11-29 00:00:00',\n",
       " '2023-01-21 00:00:00',\n",
       " '2022-11-19 00:00:00',\n",
       " '2022-12-11 00:00:00',\n",
       " '2023-01-07 00:00:00',\n",
       " '2022-12-23 00:00:00',\n",
       " '2023-01-14 00:00:00',\n",
       " '2022-11-30 00:00:00',\n",
       " '2023-01-26 00:00:00',\n",
       " '2023-02-16 00:00:00',\n",
       " '2023-02-18 00:00:00',\n",
       " '2022-11-30 00:00:00',\n",
       " '2022-12-14 00:00:00',\n",
       " '2022-11-19 00:00:00',\n",
       " '2023-01-12 00:00:00',\n",
       " '2023-01-05 00:00:00',\n",
       " '2022-12-19 00:00:00',\n",
       " '2022-11-27 00:00:00',\n",
       " '2023-01-04 00:00:00',\n",
       " '2022-12-03 00:00:00',\n",
       " '2022-12-30 00:00:00',\n",
       " '2023-01-12 00:00:00',\n",
       " '2022-12-29 00:00:00',\n",
       " '2023-02-16 00:00:00',\n",
       " '2023-01-05 00:00:00',\n",
       " '2022-12-12 00:00:00',\n",
       " '2022-11-28 00:00:00',\n",
       " '2023-01-06 00:00:00',\n",
       " '2022-12-27 00:00:00',\n",
       " '2023-02-02 00:00:00']"
      ]
     },
     "execution_count": 47,
     "metadata": {},
     "output_type": "execute_result"
    }
   ],
   "source": [
    "Date_Of_Mfg"
   ]
  },
  {
   "cell_type": "code",
   "execution_count": 51,
   "metadata": {},
   "outputs": [],
   "source": [
    "medical_table['Mfg Date'] = Date_Of_Mfg"
   ]
  },
  {
   "cell_type": "code",
   "execution_count": 52,
   "metadata": {
    "scrolled": true
   },
   "outputs": [
    {
     "data": {
      "text/html": [
       "<div>\n",
       "<style scoped>\n",
       "    .dataframe tbody tr th:only-of-type {\n",
       "        vertical-align: middle;\n",
       "    }\n",
       "\n",
       "    .dataframe tbody tr th {\n",
       "        vertical-align: top;\n",
       "    }\n",
       "\n",
       "    .dataframe thead th {\n",
       "        text-align: right;\n",
       "    }\n",
       "</style>\n",
       "<table border=\"1\" class=\"dataframe\">\n",
       "  <thead>\n",
       "    <tr style=\"text-align: right;\">\n",
       "      <th></th>\n",
       "      <th>Mfg Date</th>\n",
       "    </tr>\n",
       "  </thead>\n",
       "  <tbody>\n",
       "    <tr>\n",
       "      <th>0</th>\n",
       "      <td>2022-11-13 00:00:00</td>\n",
       "    </tr>\n",
       "    <tr>\n",
       "      <th>1</th>\n",
       "      <td>2023-01-03 00:00:00</td>\n",
       "    </tr>\n",
       "    <tr>\n",
       "      <th>2</th>\n",
       "      <td>2023-01-08 00:00:00</td>\n",
       "    </tr>\n",
       "    <tr>\n",
       "      <th>3</th>\n",
       "      <td>2022-11-30 00:00:00</td>\n",
       "    </tr>\n",
       "    <tr>\n",
       "      <th>4</th>\n",
       "      <td>2022-12-09 00:00:00</td>\n",
       "    </tr>\n",
       "    <tr>\n",
       "      <th>...</th>\n",
       "      <td>...</td>\n",
       "    </tr>\n",
       "    <tr>\n",
       "      <th>95</th>\n",
       "      <td>2022-12-12 00:00:00</td>\n",
       "    </tr>\n",
       "    <tr>\n",
       "      <th>96</th>\n",
       "      <td>2022-11-28 00:00:00</td>\n",
       "    </tr>\n",
       "    <tr>\n",
       "      <th>97</th>\n",
       "      <td>2023-01-06 00:00:00</td>\n",
       "    </tr>\n",
       "    <tr>\n",
       "      <th>98</th>\n",
       "      <td>2022-12-27 00:00:00</td>\n",
       "    </tr>\n",
       "    <tr>\n",
       "      <th>99</th>\n",
       "      <td>2023-02-02 00:00:00</td>\n",
       "    </tr>\n",
       "  </tbody>\n",
       "</table>\n",
       "<p>100 rows × 1 columns</p>\n",
       "</div>"
      ],
      "text/plain": [
       "               Mfg Date\n",
       "0   2022-11-13 00:00:00\n",
       "1   2023-01-03 00:00:00\n",
       "2   2023-01-08 00:00:00\n",
       "3   2022-11-30 00:00:00\n",
       "4   2022-12-09 00:00:00\n",
       "..                  ...\n",
       "95  2022-12-12 00:00:00\n",
       "96  2022-11-28 00:00:00\n",
       "97  2023-01-06 00:00:00\n",
       "98  2022-12-27 00:00:00\n",
       "99  2023-02-02 00:00:00\n",
       "\n",
       "[100 rows x 1 columns]"
      ]
     },
     "execution_count": 52,
     "metadata": {},
     "output_type": "execute_result"
    }
   ],
   "source": [
    "medical_table"
   ]
  },
  {
   "cell_type": "code",
   "execution_count": 53,
   "metadata": {},
   "outputs": [],
   "source": [
    "import re"
   ]
  },
  {
   "cell_type": "code",
   "execution_count": 88,
   "metadata": {},
   "outputs": [],
   "source": [
    "alist = ['abc def','def ghi', 'ghi jkl']"
   ]
  },
  {
   "cell_type": "code",
   "execution_count": 105,
   "metadata": {},
   "outputs": [],
   "source": [
    "# newlist = []\n",
    "# for i in range(len(alist)):\n",
    "#     alist[i]=re.sub('\\s.+','',alist[i])\n",
    "#     print(alist[i])\n",
    "#     newlist.append(alist[i])\n",
    "#     print(newlist)"
   ]
  },
  {
   "cell_type": "code",
   "execution_count": 91,
   "metadata": {},
   "outputs": [],
   "source": [
    "def regex_func(value):\n",
    "    return re.sub('\\s.+','',value)       "
   ]
  },
  {
   "cell_type": "code",
   "execution_count": 94,
   "metadata": {
    "scrolled": true
   },
   "outputs": [],
   "source": [
    "medical_table['Mfg Date'] = medical_table['Mfg Date'].apply(regex_func)"
   ]
  },
  {
   "cell_type": "code",
   "execution_count": 95,
   "metadata": {
    "scrolled": true
   },
   "outputs": [
    {
     "data": {
      "text/html": [
       "<div>\n",
       "<style scoped>\n",
       "    .dataframe tbody tr th:only-of-type {\n",
       "        vertical-align: middle;\n",
       "    }\n",
       "\n",
       "    .dataframe tbody tr th {\n",
       "        vertical-align: top;\n",
       "    }\n",
       "\n",
       "    .dataframe thead th {\n",
       "        text-align: right;\n",
       "    }\n",
       "</style>\n",
       "<table border=\"1\" class=\"dataframe\">\n",
       "  <thead>\n",
       "    <tr style=\"text-align: right;\">\n",
       "      <th></th>\n",
       "      <th>Mfg Date</th>\n",
       "    </tr>\n",
       "  </thead>\n",
       "  <tbody>\n",
       "    <tr>\n",
       "      <th>0</th>\n",
       "      <td>2022-11-13</td>\n",
       "    </tr>\n",
       "    <tr>\n",
       "      <th>1</th>\n",
       "      <td>2023-01-03</td>\n",
       "    </tr>\n",
       "    <tr>\n",
       "      <th>2</th>\n",
       "      <td>2023-01-08</td>\n",
       "    </tr>\n",
       "    <tr>\n",
       "      <th>3</th>\n",
       "      <td>2022-11-30</td>\n",
       "    </tr>\n",
       "    <tr>\n",
       "      <th>4</th>\n",
       "      <td>2022-12-09</td>\n",
       "    </tr>\n",
       "    <tr>\n",
       "      <th>...</th>\n",
       "      <td>...</td>\n",
       "    </tr>\n",
       "    <tr>\n",
       "      <th>95</th>\n",
       "      <td>2022-12-12</td>\n",
       "    </tr>\n",
       "    <tr>\n",
       "      <th>96</th>\n",
       "      <td>2022-11-28</td>\n",
       "    </tr>\n",
       "    <tr>\n",
       "      <th>97</th>\n",
       "      <td>2023-01-06</td>\n",
       "    </tr>\n",
       "    <tr>\n",
       "      <th>98</th>\n",
       "      <td>2022-12-27</td>\n",
       "    </tr>\n",
       "    <tr>\n",
       "      <th>99</th>\n",
       "      <td>2023-02-02</td>\n",
       "    </tr>\n",
       "  </tbody>\n",
       "</table>\n",
       "<p>100 rows × 1 columns</p>\n",
       "</div>"
      ],
      "text/plain": [
       "      Mfg Date\n",
       "0   2022-11-13\n",
       "1   2023-01-03\n",
       "2   2023-01-08\n",
       "3   2022-11-30\n",
       "4   2022-12-09\n",
       "..         ...\n",
       "95  2022-12-12\n",
       "96  2022-11-28\n",
       "97  2023-01-06\n",
       "98  2022-12-27\n",
       "99  2023-02-02\n",
       "\n",
       "[100 rows x 1 columns]"
      ]
     },
     "execution_count": 95,
     "metadata": {},
     "output_type": "execute_result"
    }
   ],
   "source": [
    "medical_table"
   ]
  },
  {
   "cell_type": "code",
   "execution_count": 97,
   "metadata": {},
   "outputs": [],
   "source": [
    "import string"
   ]
  },
  {
   "cell_type": "code",
   "execution_count": 98,
   "metadata": {},
   "outputs": [
    {
     "name": "stdout",
     "output_type": "stream",
     "text": [
      "['A', 'B', 'C', 'D', 'E', 'F', 'G', 'H', 'I', 'J', 'K', 'L', 'M', 'N', 'O', 'P', 'Q', 'R', 'S', 'T', 'U', 'V', 'W', 'X', 'Y', 'Z']\n"
     ]
    }
   ],
   "source": [
    "medicine_list = list(string.ascii_uppercase)\n",
    "print(medicine_list)"
   ]
  },
  {
   "cell_type": "code",
   "execution_count": 102,
   "metadata": {},
   "outputs": [],
   "source": [
    "ml = []\n",
    "for i in range(len(medical_table)):\n",
    "    ml.append(random.choice(medicine_list))"
   ]
  },
  {
   "cell_type": "code",
   "execution_count": 103,
   "metadata": {},
   "outputs": [],
   "source": [
    "medical_table['Medicine'] = ml "
   ]
  },
  {
   "cell_type": "code",
   "execution_count": 104,
   "metadata": {
    "scrolled": false
   },
   "outputs": [
    {
     "data": {
      "text/html": [
       "<div>\n",
       "<style scoped>\n",
       "    .dataframe tbody tr th:only-of-type {\n",
       "        vertical-align: middle;\n",
       "    }\n",
       "\n",
       "    .dataframe tbody tr th {\n",
       "        vertical-align: top;\n",
       "    }\n",
       "\n",
       "    .dataframe thead th {\n",
       "        text-align: right;\n",
       "    }\n",
       "</style>\n",
       "<table border=\"1\" class=\"dataframe\">\n",
       "  <thead>\n",
       "    <tr style=\"text-align: right;\">\n",
       "      <th></th>\n",
       "      <th>Mfg Date</th>\n",
       "      <th>Medicine</th>\n",
       "    </tr>\n",
       "  </thead>\n",
       "  <tbody>\n",
       "    <tr>\n",
       "      <th>0</th>\n",
       "      <td>2022-11-13</td>\n",
       "      <td>S</td>\n",
       "    </tr>\n",
       "    <tr>\n",
       "      <th>1</th>\n",
       "      <td>2023-01-03</td>\n",
       "      <td>H</td>\n",
       "    </tr>\n",
       "    <tr>\n",
       "      <th>2</th>\n",
       "      <td>2023-01-08</td>\n",
       "      <td>B</td>\n",
       "    </tr>\n",
       "    <tr>\n",
       "      <th>3</th>\n",
       "      <td>2022-11-30</td>\n",
       "      <td>S</td>\n",
       "    </tr>\n",
       "    <tr>\n",
       "      <th>4</th>\n",
       "      <td>2022-12-09</td>\n",
       "      <td>W</td>\n",
       "    </tr>\n",
       "    <tr>\n",
       "      <th>...</th>\n",
       "      <td>...</td>\n",
       "      <td>...</td>\n",
       "    </tr>\n",
       "    <tr>\n",
       "      <th>95</th>\n",
       "      <td>2022-12-12</td>\n",
       "      <td>M</td>\n",
       "    </tr>\n",
       "    <tr>\n",
       "      <th>96</th>\n",
       "      <td>2022-11-28</td>\n",
       "      <td>V</td>\n",
       "    </tr>\n",
       "    <tr>\n",
       "      <th>97</th>\n",
       "      <td>2023-01-06</td>\n",
       "      <td>I</td>\n",
       "    </tr>\n",
       "    <tr>\n",
       "      <th>98</th>\n",
       "      <td>2022-12-27</td>\n",
       "      <td>Q</td>\n",
       "    </tr>\n",
       "    <tr>\n",
       "      <th>99</th>\n",
       "      <td>2023-02-02</td>\n",
       "      <td>W</td>\n",
       "    </tr>\n",
       "  </tbody>\n",
       "</table>\n",
       "<p>100 rows × 2 columns</p>\n",
       "</div>"
      ],
      "text/plain": [
       "      Mfg Date Medicine\n",
       "0   2022-11-13        S\n",
       "1   2023-01-03        H\n",
       "2   2023-01-08        B\n",
       "3   2022-11-30        S\n",
       "4   2022-12-09        W\n",
       "..         ...      ...\n",
       "95  2022-12-12        M\n",
       "96  2022-11-28        V\n",
       "97  2023-01-06        I\n",
       "98  2022-12-27        Q\n",
       "99  2023-02-02        W\n",
       "\n",
       "[100 rows x 2 columns]"
      ]
     },
     "execution_count": 104,
     "metadata": {},
     "output_type": "execute_result"
    }
   ],
   "source": [
    "medical_table"
   ]
  },
  {
   "cell_type": "code",
   "execution_count": 108,
   "metadata": {},
   "outputs": [],
   "source": [
    "qty_range = list(range(1,15))"
   ]
  },
  {
   "cell_type": "code",
   "execution_count": 109,
   "metadata": {},
   "outputs": [
    {
     "data": {
      "text/plain": [
       "[1, 2, 3, 4, 5, 6, 7, 8, 9, 10, 11, 12, 13, 14]"
      ]
     },
     "execution_count": 109,
     "metadata": {},
     "output_type": "execute_result"
    }
   ],
   "source": [
    "qty_range"
   ]
  },
  {
   "cell_type": "code",
   "execution_count": 110,
   "metadata": {},
   "outputs": [],
   "source": [
    "qty = []\n",
    "for i in range(len(medical_table)):\n",
    "    qty.append(random.choice(qty_range))"
   ]
  },
  {
   "cell_type": "code",
   "execution_count": 111,
   "metadata": {},
   "outputs": [],
   "source": [
    "medical_table['Lots Purchased'] = qty"
   ]
  },
  {
   "cell_type": "code",
   "execution_count": 112,
   "metadata": {
    "scrolled": true
   },
   "outputs": [
    {
     "data": {
      "text/html": [
       "<div>\n",
       "<style scoped>\n",
       "    .dataframe tbody tr th:only-of-type {\n",
       "        vertical-align: middle;\n",
       "    }\n",
       "\n",
       "    .dataframe tbody tr th {\n",
       "        vertical-align: top;\n",
       "    }\n",
       "\n",
       "    .dataframe thead th {\n",
       "        text-align: right;\n",
       "    }\n",
       "</style>\n",
       "<table border=\"1\" class=\"dataframe\">\n",
       "  <thead>\n",
       "    <tr style=\"text-align: right;\">\n",
       "      <th></th>\n",
       "      <th>Mfg Date</th>\n",
       "      <th>Medicine</th>\n",
       "      <th>Lots Purchased</th>\n",
       "    </tr>\n",
       "  </thead>\n",
       "  <tbody>\n",
       "    <tr>\n",
       "      <th>0</th>\n",
       "      <td>2022-11-13</td>\n",
       "      <td>S</td>\n",
       "      <td>6</td>\n",
       "    </tr>\n",
       "    <tr>\n",
       "      <th>1</th>\n",
       "      <td>2023-01-03</td>\n",
       "      <td>H</td>\n",
       "      <td>10</td>\n",
       "    </tr>\n",
       "    <tr>\n",
       "      <th>2</th>\n",
       "      <td>2023-01-08</td>\n",
       "      <td>B</td>\n",
       "      <td>9</td>\n",
       "    </tr>\n",
       "    <tr>\n",
       "      <th>3</th>\n",
       "      <td>2022-11-30</td>\n",
       "      <td>S</td>\n",
       "      <td>8</td>\n",
       "    </tr>\n",
       "    <tr>\n",
       "      <th>4</th>\n",
       "      <td>2022-12-09</td>\n",
       "      <td>W</td>\n",
       "      <td>10</td>\n",
       "    </tr>\n",
       "    <tr>\n",
       "      <th>...</th>\n",
       "      <td>...</td>\n",
       "      <td>...</td>\n",
       "      <td>...</td>\n",
       "    </tr>\n",
       "    <tr>\n",
       "      <th>95</th>\n",
       "      <td>2022-12-12</td>\n",
       "      <td>M</td>\n",
       "      <td>1</td>\n",
       "    </tr>\n",
       "    <tr>\n",
       "      <th>96</th>\n",
       "      <td>2022-11-28</td>\n",
       "      <td>V</td>\n",
       "      <td>7</td>\n",
       "    </tr>\n",
       "    <tr>\n",
       "      <th>97</th>\n",
       "      <td>2023-01-06</td>\n",
       "      <td>I</td>\n",
       "      <td>12</td>\n",
       "    </tr>\n",
       "    <tr>\n",
       "      <th>98</th>\n",
       "      <td>2022-12-27</td>\n",
       "      <td>Q</td>\n",
       "      <td>12</td>\n",
       "    </tr>\n",
       "    <tr>\n",
       "      <th>99</th>\n",
       "      <td>2023-02-02</td>\n",
       "      <td>W</td>\n",
       "      <td>5</td>\n",
       "    </tr>\n",
       "  </tbody>\n",
       "</table>\n",
       "<p>100 rows × 3 columns</p>\n",
       "</div>"
      ],
      "text/plain": [
       "      Mfg Date Medicine  Lots Purchased\n",
       "0   2022-11-13        S               6\n",
       "1   2023-01-03        H              10\n",
       "2   2023-01-08        B               9\n",
       "3   2022-11-30        S               8\n",
       "4   2022-12-09        W              10\n",
       "..         ...      ...             ...\n",
       "95  2022-12-12        M               1\n",
       "96  2022-11-28        V               7\n",
       "97  2023-01-06        I              12\n",
       "98  2022-12-27        Q              12\n",
       "99  2023-02-02        W               5\n",
       "\n",
       "[100 rows x 3 columns]"
      ]
     },
     "execution_count": 112,
     "metadata": {},
     "output_type": "execute_result"
    }
   ],
   "source": [
    "medical_table"
   ]
  },
  {
   "cell_type": "code",
   "execution_count": 113,
   "metadata": {},
   "outputs": [],
   "source": [
    "lts = []\n",
    "lts_range = [2,5,8,10]\n",
    "for i in range(len(medical_table)):\n",
    "    lts.append(random.choice(lts_range))"
   ]
  },
  {
   "cell_type": "code",
   "execution_count": 114,
   "metadata": {},
   "outputs": [],
   "source": [
    "medical_table['Lot size'] = lts"
   ]
  },
  {
   "cell_type": "code",
   "execution_count": 118,
   "metadata": {
    "scrolled": true
   },
   "outputs": [
    {
     "data": {
      "text/html": [
       "<div>\n",
       "<style scoped>\n",
       "    .dataframe tbody tr th:only-of-type {\n",
       "        vertical-align: middle;\n",
       "    }\n",
       "\n",
       "    .dataframe tbody tr th {\n",
       "        vertical-align: top;\n",
       "    }\n",
       "\n",
       "    .dataframe thead th {\n",
       "        text-align: right;\n",
       "    }\n",
       "</style>\n",
       "<table border=\"1\" class=\"dataframe\">\n",
       "  <thead>\n",
       "    <tr style=\"text-align: right;\">\n",
       "      <th></th>\n",
       "      <th>Mfg Date</th>\n",
       "      <th>Medicine</th>\n",
       "      <th>Lots Purchased</th>\n",
       "      <th>Lot size</th>\n",
       "      <th>Units purchased</th>\n",
       "    </tr>\n",
       "  </thead>\n",
       "  <tbody>\n",
       "    <tr>\n",
       "      <th>0</th>\n",
       "      <td>2022-11-13</td>\n",
       "      <td>S</td>\n",
       "      <td>6</td>\n",
       "      <td>8</td>\n",
       "      <td>48</td>\n",
       "    </tr>\n",
       "    <tr>\n",
       "      <th>1</th>\n",
       "      <td>2023-01-03</td>\n",
       "      <td>H</td>\n",
       "      <td>10</td>\n",
       "      <td>5</td>\n",
       "      <td>50</td>\n",
       "    </tr>\n",
       "    <tr>\n",
       "      <th>2</th>\n",
       "      <td>2023-01-08</td>\n",
       "      <td>B</td>\n",
       "      <td>9</td>\n",
       "      <td>10</td>\n",
       "      <td>90</td>\n",
       "    </tr>\n",
       "    <tr>\n",
       "      <th>3</th>\n",
       "      <td>2022-11-30</td>\n",
       "      <td>S</td>\n",
       "      <td>8</td>\n",
       "      <td>2</td>\n",
       "      <td>16</td>\n",
       "    </tr>\n",
       "    <tr>\n",
       "      <th>4</th>\n",
       "      <td>2022-12-09</td>\n",
       "      <td>W</td>\n",
       "      <td>10</td>\n",
       "      <td>5</td>\n",
       "      <td>50</td>\n",
       "    </tr>\n",
       "    <tr>\n",
       "      <th>...</th>\n",
       "      <td>...</td>\n",
       "      <td>...</td>\n",
       "      <td>...</td>\n",
       "      <td>...</td>\n",
       "      <td>...</td>\n",
       "    </tr>\n",
       "    <tr>\n",
       "      <th>95</th>\n",
       "      <td>2022-12-12</td>\n",
       "      <td>M</td>\n",
       "      <td>1</td>\n",
       "      <td>5</td>\n",
       "      <td>5</td>\n",
       "    </tr>\n",
       "    <tr>\n",
       "      <th>96</th>\n",
       "      <td>2022-11-28</td>\n",
       "      <td>V</td>\n",
       "      <td>7</td>\n",
       "      <td>5</td>\n",
       "      <td>35</td>\n",
       "    </tr>\n",
       "    <tr>\n",
       "      <th>97</th>\n",
       "      <td>2023-01-06</td>\n",
       "      <td>I</td>\n",
       "      <td>12</td>\n",
       "      <td>2</td>\n",
       "      <td>24</td>\n",
       "    </tr>\n",
       "    <tr>\n",
       "      <th>98</th>\n",
       "      <td>2022-12-27</td>\n",
       "      <td>Q</td>\n",
       "      <td>12</td>\n",
       "      <td>5</td>\n",
       "      <td>60</td>\n",
       "    </tr>\n",
       "    <tr>\n",
       "      <th>99</th>\n",
       "      <td>2023-02-02</td>\n",
       "      <td>W</td>\n",
       "      <td>5</td>\n",
       "      <td>10</td>\n",
       "      <td>50</td>\n",
       "    </tr>\n",
       "  </tbody>\n",
       "</table>\n",
       "<p>100 rows × 5 columns</p>\n",
       "</div>"
      ],
      "text/plain": [
       "      Mfg Date Medicine  Lots Purchased  Lot size  Units purchased\n",
       "0   2022-11-13        S               6         8               48\n",
       "1   2023-01-03        H              10         5               50\n",
       "2   2023-01-08        B               9        10               90\n",
       "3   2022-11-30        S               8         2               16\n",
       "4   2022-12-09        W              10         5               50\n",
       "..         ...      ...             ...       ...              ...\n",
       "95  2022-12-12        M               1         5                5\n",
       "96  2022-11-28        V               7         5               35\n",
       "97  2023-01-06        I              12         2               24\n",
       "98  2022-12-27        Q              12         5               60\n",
       "99  2023-02-02        W               5        10               50\n",
       "\n",
       "[100 rows x 5 columns]"
      ]
     },
     "execution_count": 118,
     "metadata": {},
     "output_type": "execute_result"
    }
   ],
   "source": [
    "medical_table"
   ]
  },
  {
   "cell_type": "code",
   "execution_count": 117,
   "metadata": {},
   "outputs": [],
   "source": [
    "medical_table['Units purchased'] = pd.DataFrame(medical_table['Lots Purchased']*medical_table['Lot size'])"
   ]
  },
  {
   "cell_type": "code",
   "execution_count": 119,
   "metadata": {
    "scrolled": false
   },
   "outputs": [
    {
     "data": {
      "text/html": [
       "<div>\n",
       "<style scoped>\n",
       "    .dataframe tbody tr th:only-of-type {\n",
       "        vertical-align: middle;\n",
       "    }\n",
       "\n",
       "    .dataframe tbody tr th {\n",
       "        vertical-align: top;\n",
       "    }\n",
       "\n",
       "    .dataframe thead th {\n",
       "        text-align: right;\n",
       "    }\n",
       "</style>\n",
       "<table border=\"1\" class=\"dataframe\">\n",
       "  <thead>\n",
       "    <tr style=\"text-align: right;\">\n",
       "      <th></th>\n",
       "      <th>Mfg Date</th>\n",
       "      <th>Medicine</th>\n",
       "      <th>Lots Purchased</th>\n",
       "      <th>Lot size</th>\n",
       "      <th>Units purchased</th>\n",
       "    </tr>\n",
       "  </thead>\n",
       "  <tbody>\n",
       "    <tr>\n",
       "      <th>count</th>\n",
       "      <td>100</td>\n",
       "      <td>100</td>\n",
       "      <td>100.000000</td>\n",
       "      <td>100.000000</td>\n",
       "      <td>100.000000</td>\n",
       "    </tr>\n",
       "    <tr>\n",
       "      <th>unique</th>\n",
       "      <td>64</td>\n",
       "      <td>25</td>\n",
       "      <td>NaN</td>\n",
       "      <td>NaN</td>\n",
       "      <td>NaN</td>\n",
       "    </tr>\n",
       "    <tr>\n",
       "      <th>top</th>\n",
       "      <td>2023-01-05</td>\n",
       "      <td>E</td>\n",
       "      <td>NaN</td>\n",
       "      <td>NaN</td>\n",
       "      <td>NaN</td>\n",
       "    </tr>\n",
       "    <tr>\n",
       "      <th>freq</th>\n",
       "      <td>4</td>\n",
       "      <td>8</td>\n",
       "      <td>NaN</td>\n",
       "      <td>NaN</td>\n",
       "      <td>NaN</td>\n",
       "    </tr>\n",
       "    <tr>\n",
       "      <th>mean</th>\n",
       "      <td>NaN</td>\n",
       "      <td>NaN</td>\n",
       "      <td>7.660000</td>\n",
       "      <td>6.540000</td>\n",
       "      <td>50.090000</td>\n",
       "    </tr>\n",
       "    <tr>\n",
       "      <th>std</th>\n",
       "      <td>NaN</td>\n",
       "      <td>NaN</td>\n",
       "      <td>4.273999</td>\n",
       "      <td>3.003096</td>\n",
       "      <td>37.663608</td>\n",
       "    </tr>\n",
       "    <tr>\n",
       "      <th>min</th>\n",
       "      <td>NaN</td>\n",
       "      <td>NaN</td>\n",
       "      <td>1.000000</td>\n",
       "      <td>2.000000</td>\n",
       "      <td>2.000000</td>\n",
       "    </tr>\n",
       "    <tr>\n",
       "      <th>25%</th>\n",
       "      <td>NaN</td>\n",
       "      <td>NaN</td>\n",
       "      <td>4.000000</td>\n",
       "      <td>5.000000</td>\n",
       "      <td>16.000000</td>\n",
       "    </tr>\n",
       "    <tr>\n",
       "      <th>50%</th>\n",
       "      <td>NaN</td>\n",
       "      <td>NaN</td>\n",
       "      <td>7.500000</td>\n",
       "      <td>8.000000</td>\n",
       "      <td>48.000000</td>\n",
       "    </tr>\n",
       "    <tr>\n",
       "      <th>75%</th>\n",
       "      <td>NaN</td>\n",
       "      <td>NaN</td>\n",
       "      <td>12.000000</td>\n",
       "      <td>10.000000</td>\n",
       "      <td>70.500000</td>\n",
       "    </tr>\n",
       "    <tr>\n",
       "      <th>max</th>\n",
       "      <td>NaN</td>\n",
       "      <td>NaN</td>\n",
       "      <td>14.000000</td>\n",
       "      <td>10.000000</td>\n",
       "      <td>140.000000</td>\n",
       "    </tr>\n",
       "  </tbody>\n",
       "</table>\n",
       "</div>"
      ],
      "text/plain": [
       "          Mfg Date Medicine  Lots Purchased    Lot size  Units purchased\n",
       "count          100      100      100.000000  100.000000       100.000000\n",
       "unique          64       25             NaN         NaN              NaN\n",
       "top     2023-01-05        E             NaN         NaN              NaN\n",
       "freq             4        8             NaN         NaN              NaN\n",
       "mean           NaN      NaN        7.660000    6.540000        50.090000\n",
       "std            NaN      NaN        4.273999    3.003096        37.663608\n",
       "min            NaN      NaN        1.000000    2.000000         2.000000\n",
       "25%            NaN      NaN        4.000000    5.000000        16.000000\n",
       "50%            NaN      NaN        7.500000    8.000000        48.000000\n",
       "75%            NaN      NaN       12.000000   10.000000        70.500000\n",
       "max            NaN      NaN       14.000000   10.000000       140.000000"
      ]
     },
     "execution_count": 119,
     "metadata": {},
     "output_type": "execute_result"
    }
   ],
   "source": [
    "medical_table.describe(include='all')"
   ]
  },
  {
   "cell_type": "markdown",
   "metadata": {},
   "source": [
    "#### Create expiry date column"
   ]
  },
  {
   "cell_type": "code",
   "execution_count": 121,
   "metadata": {},
   "outputs": [],
   "source": [
    "expiry_date = pd.date_range('01/05/2024', periods=100, freq='D')"
   ]
  },
  {
   "cell_type": "code",
   "execution_count": 124,
   "metadata": {},
   "outputs": [],
   "source": [
    "edl = expiry_date.to_list()"
   ]
  },
  {
   "cell_type": "code",
   "execution_count": 125,
   "metadata": {},
   "outputs": [],
   "source": [
    "edl_str = []\n",
    "for i in range(len(edl)):\n",
    "    edl_str.append(str(edl[i]))"
   ]
  },
  {
   "cell_type": "code",
   "execution_count": 129,
   "metadata": {},
   "outputs": [],
   "source": [
    "edls = []\n",
    "for i in range(len(medical_table)):\n",
    "    edls.append(random.choice(edl_str))"
   ]
  },
  {
   "cell_type": "code",
   "execution_count": 130,
   "metadata": {},
   "outputs": [],
   "source": [
    "medical_table['Expiry Date'] = edls"
   ]
  },
  {
   "cell_type": "code",
   "execution_count": 168,
   "metadata": {
    "scrolled": true
   },
   "outputs": [
    {
     "data": {
      "text/html": [
       "<div>\n",
       "<style scoped>\n",
       "    .dataframe tbody tr th:only-of-type {\n",
       "        vertical-align: middle;\n",
       "    }\n",
       "\n",
       "    .dataframe tbody tr th {\n",
       "        vertical-align: top;\n",
       "    }\n",
       "\n",
       "    .dataframe thead th {\n",
       "        text-align: right;\n",
       "    }\n",
       "</style>\n",
       "<table border=\"1\" class=\"dataframe\">\n",
       "  <thead>\n",
       "    <tr style=\"text-align: right;\">\n",
       "      <th></th>\n",
       "      <th>Mfg Date</th>\n",
       "      <th>Medicine</th>\n",
       "      <th>Lots Purchased</th>\n",
       "      <th>Lot size</th>\n",
       "      <th>Units purchased</th>\n",
       "      <th>Expiry Date</th>\n",
       "      <th>Days to expiry</th>\n",
       "    </tr>\n",
       "  </thead>\n",
       "  <tbody>\n",
       "    <tr>\n",
       "      <th>0</th>\n",
       "      <td>2022-11-13</td>\n",
       "      <td>S</td>\n",
       "      <td>6</td>\n",
       "      <td>8</td>\n",
       "      <td>48</td>\n",
       "      <td>2024-01-31</td>\n",
       "      <td>444 days</td>\n",
       "    </tr>\n",
       "    <tr>\n",
       "      <th>1</th>\n",
       "      <td>2023-01-03</td>\n",
       "      <td>H</td>\n",
       "      <td>10</td>\n",
       "      <td>5</td>\n",
       "      <td>50</td>\n",
       "      <td>2024-02-07</td>\n",
       "      <td>400 days</td>\n",
       "    </tr>\n",
       "    <tr>\n",
       "      <th>2</th>\n",
       "      <td>2023-01-08</td>\n",
       "      <td>B</td>\n",
       "      <td>9</td>\n",
       "      <td>10</td>\n",
       "      <td>90</td>\n",
       "      <td>2024-02-19</td>\n",
       "      <td>407 days</td>\n",
       "    </tr>\n",
       "    <tr>\n",
       "      <th>3</th>\n",
       "      <td>2022-11-30</td>\n",
       "      <td>S</td>\n",
       "      <td>8</td>\n",
       "      <td>2</td>\n",
       "      <td>16</td>\n",
       "      <td>2024-03-29</td>\n",
       "      <td>485 days</td>\n",
       "    </tr>\n",
       "    <tr>\n",
       "      <th>4</th>\n",
       "      <td>2022-12-09</td>\n",
       "      <td>W</td>\n",
       "      <td>10</td>\n",
       "      <td>5</td>\n",
       "      <td>50</td>\n",
       "      <td>2024-01-25</td>\n",
       "      <td>412 days</td>\n",
       "    </tr>\n",
       "    <tr>\n",
       "      <th>...</th>\n",
       "      <td>...</td>\n",
       "      <td>...</td>\n",
       "      <td>...</td>\n",
       "      <td>...</td>\n",
       "      <td>...</td>\n",
       "      <td>...</td>\n",
       "      <td>...</td>\n",
       "    </tr>\n",
       "    <tr>\n",
       "      <th>95</th>\n",
       "      <td>2022-12-12</td>\n",
       "      <td>M</td>\n",
       "      <td>1</td>\n",
       "      <td>5</td>\n",
       "      <td>5</td>\n",
       "      <td>2024-03-22</td>\n",
       "      <td>466 days</td>\n",
       "    </tr>\n",
       "    <tr>\n",
       "      <th>96</th>\n",
       "      <td>2022-11-28</td>\n",
       "      <td>V</td>\n",
       "      <td>7</td>\n",
       "      <td>5</td>\n",
       "      <td>35</td>\n",
       "      <td>2024-01-24</td>\n",
       "      <td>422 days</td>\n",
       "    </tr>\n",
       "    <tr>\n",
       "      <th>97</th>\n",
       "      <td>2023-01-06</td>\n",
       "      <td>I</td>\n",
       "      <td>12</td>\n",
       "      <td>2</td>\n",
       "      <td>24</td>\n",
       "      <td>2024-04-07</td>\n",
       "      <td>457 days</td>\n",
       "    </tr>\n",
       "    <tr>\n",
       "      <th>98</th>\n",
       "      <td>2022-12-27</td>\n",
       "      <td>Q</td>\n",
       "      <td>12</td>\n",
       "      <td>5</td>\n",
       "      <td>60</td>\n",
       "      <td>2024-01-26</td>\n",
       "      <td>395 days</td>\n",
       "    </tr>\n",
       "    <tr>\n",
       "      <th>99</th>\n",
       "      <td>2023-02-02</td>\n",
       "      <td>W</td>\n",
       "      <td>5</td>\n",
       "      <td>10</td>\n",
       "      <td>50</td>\n",
       "      <td>2024-03-07</td>\n",
       "      <td>399 days</td>\n",
       "    </tr>\n",
       "  </tbody>\n",
       "</table>\n",
       "<p>100 rows × 7 columns</p>\n",
       "</div>"
      ],
      "text/plain": [
       "     Mfg Date Medicine  Lots Purchased  Lot size  Units purchased Expiry Date  \\\n",
       "0  2022-11-13        S               6         8               48  2024-01-31   \n",
       "1  2023-01-03        H              10         5               50  2024-02-07   \n",
       "2  2023-01-08        B               9        10               90  2024-02-19   \n",
       "3  2022-11-30        S               8         2               16  2024-03-29   \n",
       "4  2022-12-09        W              10         5               50  2024-01-25   \n",
       "..        ...      ...             ...       ...              ...         ...   \n",
       "95 2022-12-12        M               1         5                5  2024-03-22   \n",
       "96 2022-11-28        V               7         5               35  2024-01-24   \n",
       "97 2023-01-06        I              12         2               24  2024-04-07   \n",
       "98 2022-12-27        Q              12         5               60  2024-01-26   \n",
       "99 2023-02-02        W               5        10               50  2024-03-07   \n",
       "\n",
       "   Days to expiry  \n",
       "0        444 days  \n",
       "1        400 days  \n",
       "2        407 days  \n",
       "3        485 days  \n",
       "4        412 days  \n",
       "..            ...  \n",
       "95       466 days  \n",
       "96       422 days  \n",
       "97       457 days  \n",
       "98       395 days  \n",
       "99       399 days  \n",
       "\n",
       "[100 rows x 7 columns]"
      ]
     },
     "execution_count": 168,
     "metadata": {},
     "output_type": "execute_result"
    }
   ],
   "source": [
    "medical_table"
   ]
  },
  {
   "cell_type": "code",
   "execution_count": 132,
   "metadata": {},
   "outputs": [],
   "source": [
    "medical_table['Expiry Date'] = medical_table['Expiry Date'].apply(regex_func)"
   ]
  },
  {
   "cell_type": "markdown",
   "metadata": {},
   "source": [
    "## Date conversion operations"
   ]
  },
  {
   "cell_type": "markdown",
   "metadata": {},
   "source": [
    "### Converting date string columns to datetime format"
   ]
  },
  {
   "cell_type": "code",
   "execution_count": 166,
   "metadata": {},
   "outputs": [],
   "source": [
    "medical_table[['Expiry Date','Mfg Date']] = medical_table[['Expiry Date','Mfg Date']].apply(pd.to_datetime, errors='coerce')"
   ]
  },
  {
   "cell_type": "code",
   "execution_count": null,
   "metadata": {},
   "outputs": [],
   "source": [
    "medical_table.info()"
   ]
  },
  {
   "cell_type": "code",
   "execution_count": 167,
   "metadata": {},
   "outputs": [],
   "source": [
    "medical_table['Days to expiry'] = medical_table['Expiry Date'] - medical_table['Mfg Date']"
   ]
  },
  {
   "cell_type": "markdown",
   "metadata": {},
   "source": [
    "### Converting date string to datetime format\n",
    "#### Gets converted to YYYY-MM-DD"
   ]
  },
  {
   "cell_type": "markdown",
   "metadata": {},
   "source": [
    "#### Converting 8 date formats to universal YYYY-MM-DD format"
   ]
  },
  {
   "cell_type": "code",
   "execution_count": 191,
   "metadata": {},
   "outputs": [],
   "source": [
    "s1 = '2024-11-11'\n",
    "s2 = '2024-11-19'\n",
    "s3 = '2024/01/13'\n",
    "s4 = '13/12/2025'\n",
    "s5 = '10/18/2025'\n",
    "s6 = '18-Mar-2023'\n",
    "s7 = '18-March-2023'\n",
    "s8 = 'Mar/18/2023'"
   ]
  },
  {
   "cell_type": "code",
   "execution_count": 174,
   "metadata": {},
   "outputs": [],
   "source": [
    "import datetime as dt"
   ]
  },
  {
   "cell_type": "code",
   "execution_count": 192,
   "metadata": {
    "scrolled": true
   },
   "outputs": [
    {
     "name": "stdout",
     "output_type": "stream",
     "text": [
      "Earlier: 2024-11-11 Now: 2024-11-11 00:00:00\n",
      "Earlier: 2024-11-19 Now: 2024-11-19 00:00:00\n",
      "Earlier: 2024/01/13 Now: 2024-01-13 00:00:00\n",
      "Earlier: 13/12/2025 Now: 2025-12-13 00:00:00\n",
      "Earlier: 10/18/2025 Now: 2025-10-18 00:00:00\n",
      "Earlier: 18-Mar-2023 Now: 2023-03-18 00:00:00\n",
      "Earlier: 18-March-2023 Now: 2023-03-18 00:00:00\n",
      "Earlier: Mar/18/2023 Now: 2023-03-18 00:00:00\n"
     ]
    }
   ],
   "source": [
    "date_string1 = dt.datetime.strptime(s1,\"%Y-%m-%d\")\n",
    "date_string2 = dt.datetime.strptime(s2,\"%Y-%m-%d\")\n",
    "date_string3 = dt.datetime.strptime(s3,\"%Y/%m/%d\")\n",
    "date_string4 = dt.datetime.strptime(s4,\"%d/%m/%Y\")\n",
    "date_string5 = dt.datetime.strptime(s5,\"%m/%d/%Y\")\n",
    "date_string6 = dt.datetime.strptime(s6,\"%d-%b-%Y\")\n",
    "date_string7 = dt.datetime.strptime(s7,\"%d-%B-%Y\")\n",
    "date_string8 = dt.datetime.strptime(s8,\"%b/%d/%Y\")\n",
    "\n",
    "print('Earlier:',s1,'Now:',date_string1)\n",
    "print('Earlier:',s2,'Now:',date_string2)\n",
    "print('Earlier:',s3,'Now:',date_string3)\n",
    "print('Earlier:',s4,'Now:',date_string4)\n",
    "print('Earlier:',s5,'Now:',date_string5)\n",
    "print('Earlier:',s6,'Now:',date_string6)\n",
    "print('Earlier:',s7,'Now:',date_string7)\n",
    "print('Earlier:',s8,'Now:',date_string8)"
   ]
  },
  {
   "cell_type": "markdown",
   "metadata": {},
   "source": [
    "#### Creating a datetime object"
   ]
  },
  {
   "cell_type": "code",
   "execution_count": 188,
   "metadata": {},
   "outputs": [],
   "source": [
    "xyz = dt.datetime(2025,12,11)"
   ]
  }
 ],
 "metadata": {
  "kernelspec": {
   "display_name": "Python 3",
   "language": "python",
   "name": "python3"
  },
  "language_info": {
   "codemirror_mode": {
    "name": "ipython",
    "version": 3
   },
   "file_extension": ".py",
   "mimetype": "text/x-python",
   "name": "python",
   "nbconvert_exporter": "python",
   "pygments_lexer": "ipython3",
   "version": "3.8.3"
  }
 },
 "nbformat": 4,
 "nbformat_minor": 4
}
